{
 "cells": [
  {
   "cell_type": "code",
   "execution_count": 11,
   "id": "e3c74da2-513f-407e-b6d2-f263ac826af6",
   "metadata": {},
   "outputs": [],
   "source": [
    "from sklearn import datasets\n",
    "flower = datasets.load_iris()"
   ]
  },
  {
   "cell_type": "code",
   "execution_count": 12,
   "id": "1c61d7d7-4a4f-47e6-8677-a39614ecc67c",
   "metadata": {},
   "outputs": [
    {
     "data": {
      "text/plain": [
       "dict_keys(['data', 'target', 'frame', 'target_names', 'DESCR', 'feature_names', 'filename', 'data_module'])"
      ]
     },
     "execution_count": 12,
     "metadata": {},
     "output_type": "execute_result"
    }
   ],
   "source": [
    "flower.keys()"
   ]
  },
  {
   "cell_type": "code",
   "execution_count": 13,
   "id": "9ee5f30f-5a6c-48d9-b9d6-d68ab1703a32",
   "metadata": {},
   "outputs": [
    {
     "data": {
      "text/plain": [
       "['sepal length (cm)',\n",
       " 'sepal width (cm)',\n",
       " 'petal length (cm)',\n",
       " 'petal width (cm)']"
      ]
     },
     "execution_count": 13,
     "metadata": {},
     "output_type": "execute_result"
    }
   ],
   "source": [
    "flower.feature_names"
   ]
  },
  {
   "cell_type": "code",
   "execution_count": 14,
   "id": "5f8a8939-424f-445c-b513-3d2a5455b866",
   "metadata": {},
   "outputs": [
    {
     "data": {
      "text/plain": [
       "array(['setosa', 'versicolor', 'virginica'], dtype='<U10')"
      ]
     },
     "execution_count": 14,
     "metadata": {},
     "output_type": "execute_result"
    }
   ],
   "source": [
    "flower.target_names"
   ]
  },
  {
   "cell_type": "code",
   "execution_count": 27,
   "id": "92ee825a-6e9b-438b-85f9-f689dedae09b",
   "metadata": {},
   "outputs": [
    {
     "data": {
      "text/plain": [
       "(150, 4)"
      ]
     },
     "execution_count": 27,
     "metadata": {},
     "output_type": "execute_result"
    }
   ],
   "source": [
    "flower.data.shape"
   ]
  },
  {
   "cell_type": "code",
   "execution_count": 38,
   "id": "f908b025-4abe-4cdf-bf86-f1aed78530c8",
   "metadata": {},
   "outputs": [
    {
     "name": "stdout",
     "output_type": "stream",
     "text": [
      "Accuracy: 96.67%\n"
     ]
    }
   ],
   "source": [
    "from sklearn.model_selection import train_test_split\n",
    "x_train, x_test, y_train, y_test = train_test_split(flower.data, flower.target, test_size=0.2,random_state=7)\n",
    "\n",
    "from sklearn import svm\n",
    "#Create a svm Classifier\n",
    "clf = svm.SVC(kernel='linear') # Linear Kernel\n",
    "#Train the model using the training sets\n",
    "clf.fit(x_train, y_train)\n",
    "#Predict the response for test dataset\n",
    "y_pred = clf.predict(x_test)\n",
    "\n",
    "from sklearn import metrics\n",
    "score = metrics.accuracy_score(y_test, y_pred)\n",
    "print(f'Accuracy: {round(score*100,2)}%')"
   ]
  },
  {
   "cell_type": "code",
   "execution_count": 34,
   "id": "f334e675-2669-40ec-bbb7-75cd5219ba1a",
   "metadata": {},
   "outputs": [
    {
     "data": {
      "text/plain": [
       "array([[ 7,  0,  0],\n",
       "       [ 0, 11,  1],\n",
       "       [ 0,  0, 11]], dtype=int64)"
      ]
     },
     "execution_count": 34,
     "metadata": {},
     "output_type": "execute_result"
    }
   ],
   "source": [
    "from sklearn.metrics import confusion_matrix\n",
    "confusion_matrix(y_test,y_pred)\n",
    "#----> actual class\n",
    "#   |\n",
    "#  |  predicted class\n",
    "#  V"
   ]
  },
  {
   "cell_type": "code",
   "execution_count": 16,
   "id": "ce38acfc-9c1b-4204-a182-ab0ef62278d6",
   "metadata": {},
   "outputs": [],
   "source": []
  },
  {
   "cell_type": "code",
   "execution_count": null,
   "id": "94294ece-e880-406e-beb5-4b13c015af99",
   "metadata": {},
   "outputs": [],
   "source": []
  }
 ],
 "metadata": {
  "kernelspec": {
   "display_name": "Python 3 (ipykernel)",
   "language": "python",
   "name": "python3"
  },
  "language_info": {
   "codemirror_mode": {
    "name": "ipython",
    "version": 3
   },
   "file_extension": ".py",
   "mimetype": "text/x-python",
   "name": "python",
   "nbconvert_exporter": "python",
   "pygments_lexer": "ipython3",
   "version": "3.10.6"
  }
 },
 "nbformat": 4,
 "nbformat_minor": 5
}
