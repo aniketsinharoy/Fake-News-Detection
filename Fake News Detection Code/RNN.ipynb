{
  "cells": [
    {
      "cell_type": "code",
      "execution_count": null,
      "metadata": {
        "id": "f-6YypWDKFc3"
      },
      "outputs": [],
      "source": [
        "import numpy as np\n",
        "import pandas as pd\n",
        "import matplotlib.pyplot as plt\n",
        "import seaborn as sns\n",
        "import nltk\n",
        "import re\n",
        "from wordcloud import WordCloud #for text data visualixation"
      ]
    },
    {
      "cell_type": "markdown",
      "metadata": {
        "id": "9If_ronjO9IJ"
      },
      "source": [
        "TensorFlow is a Python library for fast numerical computing created and released by Google. It is a foundation library that can be used to create Deep Learning models directly or by using wrapper libraries that simplify the process built on top of TensorFlow.\n",
        "  In Deep Learning, Recurrent Neural Networks (RNN) are a family of neural networks that excels in learning from sequential data. A class of RNN that has found practical applications is Long Short-Term Memory (LSTM) because it is robust against the problems of long-term dependency.\n",
        "  LSTM is mostly used in scenarios where we have no idea of the time duration and we need to process, classify and predict the series of time it will take. The use of the LSTM is mostly used for remembering the post data inside the system memory that is also considered as the updated or modified version of RNN that is a Recurrent neural network that makes the work of remembering easy."
      ]
    },
    {
      "cell_type": "code",
      "execution_count": null,
      "metadata": {
        "colab": {
          "background_save": true
        },
        "id": "KduhigcUaYGj"
      },
      "outputs": [],
      "source": [
        "from tensorflow.keras.preprocessing.text import Tokenizer #used to tokenize the text data\n",
        "from tensorflow.keras.preprocessing.sequence import pad_sequences #used to pad those datasets which are not long enough\n",
        "from tensorflow.keras.models import Sequential #for feeding the model layers\n",
        "from tensorflow.keras.layers import Dense, Embedding, LSTM, Conv1D, MaxPool1D\n",
        "from sklearn.model_selection import train_test_split #used to split dataset into train set and test set\n",
        "from sklearn.metrics import classification_report, accuracy_score #used to measure the performance"
      ]
    },
    {
      "cell_type": "code",
      "execution_count": null,
      "metadata": {
        "colab": {
          "background_save": true
        },
        "id": "HsVGKEnWrbwf"
      },
      "outputs": [],
      "source": [
        "fake= pd.read_csv('https://raw.githubusercontent.com/laxmimerit/fake-real-news-dataset/main/data/Fake.csv')"
      ]
    },
    {
      "cell_type": "code",
      "execution_count": null,
      "metadata": {
        "colab": {
          "background_save": true,
          "base_uri": "https://localhost:8080/",
          "height": 206
        },
        "id": "BpDgZ274sfIW",
        "outputId": "53789ca4-c946-4340-f670-8c4184bee1e0"
      },
      "outputs": [
        {
          "data": {
            "text/html": [
              "\n",
              "  <div id=\"df-e087cec7-21cf-47bd-be2d-1e4e8ce90718\">\n",
              "    <div class=\"colab-df-container\">\n",
              "      <div>\n",
              "<style scoped>\n",
              "    .dataframe tbody tr th:only-of-type {\n",
              "        vertical-align: middle;\n",
              "    }\n",
              "\n",
              "    .dataframe tbody tr th {\n",
              "        vertical-align: top;\n",
              "    }\n",
              "\n",
              "    .dataframe thead th {\n",
              "        text-align: right;\n",
              "    }\n",
              "</style>\n",
              "<table border=\"1\" class=\"dataframe\">\n",
              "  <thead>\n",
              "    <tr style=\"text-align: right;\">\n",
              "      <th></th>\n",
              "      <th>title</th>\n",
              "      <th>text</th>\n",
              "      <th>subject</th>\n",
              "      <th>date</th>\n",
              "    </tr>\n",
              "  </thead>\n",
              "  <tbody>\n",
              "    <tr>\n",
              "      <th>0</th>\n",
              "      <td>Donald Trump Sends Out Embarrassing New Year’...</td>\n",
              "      <td>Donald Trump just couldn t wish all Americans ...</td>\n",
              "      <td>News</td>\n",
              "      <td>December 31, 2017</td>\n",
              "    </tr>\n",
              "    <tr>\n",
              "      <th>1</th>\n",
              "      <td>Drunk Bragging Trump Staffer Started Russian ...</td>\n",
              "      <td>House Intelligence Committee Chairman Devin Nu...</td>\n",
              "      <td>News</td>\n",
              "      <td>December 31, 2017</td>\n",
              "    </tr>\n",
              "    <tr>\n",
              "      <th>2</th>\n",
              "      <td>Sheriff David Clarke Becomes An Internet Joke...</td>\n",
              "      <td>On Friday, it was revealed that former Milwauk...</td>\n",
              "      <td>News</td>\n",
              "      <td>December 30, 2017</td>\n",
              "    </tr>\n",
              "    <tr>\n",
              "      <th>3</th>\n",
              "      <td>Trump Is So Obsessed He Even Has Obama’s Name...</td>\n",
              "      <td>On Christmas day, Donald Trump announced that ...</td>\n",
              "      <td>News</td>\n",
              "      <td>December 29, 2017</td>\n",
              "    </tr>\n",
              "    <tr>\n",
              "      <th>4</th>\n",
              "      <td>Pope Francis Just Called Out Donald Trump Dur...</td>\n",
              "      <td>Pope Francis used his annual Christmas Day mes...</td>\n",
              "      <td>News</td>\n",
              "      <td>December 25, 2017</td>\n",
              "    </tr>\n",
              "  </tbody>\n",
              "</table>\n",
              "</div>\n",
              "      <button class=\"colab-df-convert\" onclick=\"convertToInteractive('df-e087cec7-21cf-47bd-be2d-1e4e8ce90718')\"\n",
              "              title=\"Convert this dataframe to an interactive table.\"\n",
              "              style=\"display:none;\">\n",
              "        \n",
              "  <svg xmlns=\"http://www.w3.org/2000/svg\" height=\"24px\"viewBox=\"0 0 24 24\"\n",
              "       width=\"24px\">\n",
              "    <path d=\"M0 0h24v24H0V0z\" fill=\"none\"/>\n",
              "    <path d=\"M18.56 5.44l.94 2.06.94-2.06 2.06-.94-2.06-.94-.94-2.06-.94 2.06-2.06.94zm-11 1L8.5 8.5l.94-2.06 2.06-.94-2.06-.94L8.5 2.5l-.94 2.06-2.06.94zm10 10l.94 2.06.94-2.06 2.06-.94-2.06-.94-.94-2.06-.94 2.06-2.06.94z\"/><path d=\"M17.41 7.96l-1.37-1.37c-.4-.4-.92-.59-1.43-.59-.52 0-1.04.2-1.43.59L10.3 9.45l-7.72 7.72c-.78.78-.78 2.05 0 2.83L4 21.41c.39.39.9.59 1.41.59.51 0 1.02-.2 1.41-.59l7.78-7.78 2.81-2.81c.8-.78.8-2.07 0-2.86zM5.41 20L4 18.59l7.72-7.72 1.47 1.35L5.41 20z\"/>\n",
              "  </svg>\n",
              "      </button>\n",
              "      \n",
              "  <style>\n",
              "    .colab-df-container {\n",
              "      display:flex;\n",
              "      flex-wrap:wrap;\n",
              "      gap: 12px;\n",
              "    }\n",
              "\n",
              "    .colab-df-convert {\n",
              "      background-color: #E8F0FE;\n",
              "      border: none;\n",
              "      border-radius: 50%;\n",
              "      cursor: pointer;\n",
              "      display: none;\n",
              "      fill: #1967D2;\n",
              "      height: 32px;\n",
              "      padding: 0 0 0 0;\n",
              "      width: 32px;\n",
              "    }\n",
              "\n",
              "    .colab-df-convert:hover {\n",
              "      background-color: #E2EBFA;\n",
              "      box-shadow: 0px 1px 2px rgba(60, 64, 67, 0.3), 0px 1px 3px 1px rgba(60, 64, 67, 0.15);\n",
              "      fill: #174EA6;\n",
              "    }\n",
              "\n",
              "    [theme=dark] .colab-df-convert {\n",
              "      background-color: #3B4455;\n",
              "      fill: #D2E3FC;\n",
              "    }\n",
              "\n",
              "    [theme=dark] .colab-df-convert:hover {\n",
              "      background-color: #434B5C;\n",
              "      box-shadow: 0px 1px 3px 1px rgba(0, 0, 0, 0.15);\n",
              "      filter: drop-shadow(0px 1px 2px rgba(0, 0, 0, 0.3));\n",
              "      fill: #FFFFFF;\n",
              "    }\n",
              "  </style>\n",
              "\n",
              "      <script>\n",
              "        const buttonEl =\n",
              "          document.querySelector('#df-e087cec7-21cf-47bd-be2d-1e4e8ce90718 button.colab-df-convert');\n",
              "        buttonEl.style.display =\n",
              "          google.colab.kernel.accessAllowed ? 'block' : 'none';\n",
              "\n",
              "        async function convertToInteractive(key) {\n",
              "          const element = document.querySelector('#df-e087cec7-21cf-47bd-be2d-1e4e8ce90718');\n",
              "          const dataTable =\n",
              "            await google.colab.kernel.invokeFunction('convertToInteractive',\n",
              "                                                     [key], {});\n",
              "          if (!dataTable) return;\n",
              "\n",
              "          const docLinkHtml = 'Like what you see? Visit the ' +\n",
              "            '<a target=\"_blank\" href=https://colab.research.google.com/notebooks/data_table.ipynb>data table notebook</a>'\n",
              "            + ' to learn more about interactive tables.';\n",
              "          element.innerHTML = '';\n",
              "          dataTable['output_type'] = 'display_data';\n",
              "          await google.colab.output.renderOutput(dataTable, element);\n",
              "          const docLink = document.createElement('div');\n",
              "          docLink.innerHTML = docLinkHtml;\n",
              "          element.appendChild(docLink);\n",
              "        }\n",
              "      </script>\n",
              "    </div>\n",
              "  </div>\n",
              "  "
            ],
            "text/plain": [
              "                                               title  \\\n",
              "0   Donald Trump Sends Out Embarrassing New Year’...   \n",
              "1   Drunk Bragging Trump Staffer Started Russian ...   \n",
              "2   Sheriff David Clarke Becomes An Internet Joke...   \n",
              "3   Trump Is So Obsessed He Even Has Obama’s Name...   \n",
              "4   Pope Francis Just Called Out Donald Trump Dur...   \n",
              "\n",
              "                                                text subject  \\\n",
              "0  Donald Trump just couldn t wish all Americans ...    News   \n",
              "1  House Intelligence Committee Chairman Devin Nu...    News   \n",
              "2  On Friday, it was revealed that former Milwauk...    News   \n",
              "3  On Christmas day, Donald Trump announced that ...    News   \n",
              "4  Pope Francis used his annual Christmas Day mes...    News   \n",
              "\n",
              "                date  \n",
              "0  December 31, 2017  \n",
              "1  December 31, 2017  \n",
              "2  December 30, 2017  \n",
              "3  December 29, 2017  \n",
              "4  December 25, 2017  "
            ]
          },
          "execution_count": 134,
          "metadata": {},
          "output_type": "execute_result"
        }
      ],
      "source": [
        "fake.head()"
      ]
    },
    {
      "cell_type": "code",
      "execution_count": null,
      "metadata": {
        "colab": {
          "background_save": true,
          "base_uri": "https://localhost:8080/"
        },
        "id": "4jaInQu_tFdS",
        "outputId": "0ea21acd-c26e-4282-fad9-137ae95aceed"
      },
      "outputs": [
        {
          "data": {
            "text/plain": [
              "Index(['title', 'text', 'subject', 'date'], dtype='object')"
            ]
          },
          "execution_count": 135,
          "metadata": {},
          "output_type": "execute_result"
        }
      ],
      "source": [
        "fake.columns"
      ]
    },
    {
      "cell_type": "code",
      "execution_count": null,
      "metadata": {
        "colab": {
          "background_save": true,
          "base_uri": "https://localhost:8080/"
        },
        "id": "lgqej1PYtKLR",
        "outputId": "7865b7b5-b69b-497f-e0ba-ee951ca78a53"
      },
      "outputs": [
        {
          "data": {
            "text/plain": [
              "News               9050\n",
              "politics           6841\n",
              "left-news          4459\n",
              "Government News    1570\n",
              "US_News             783\n",
              "Middle-east         778\n",
              "Name: subject, dtype: int64"
            ]
          },
          "execution_count": 136,
          "metadata": {},
          "output_type": "execute_result"
        }
      ],
      "source": [
        "fake['subject'].value_counts() #how many subjects of data are there"
      ]
    },
    {
      "cell_type": "code",
      "execution_count": null,
      "metadata": {
        "colab": {
          "background_save": true,
          "base_uri": "https://localhost:8080/",
          "height": 461
        },
        "id": "7kx9HR6mtm_o",
        "outputId": "8f15652e-0563-40c4-9975-4d38e7e5a596"
      },
      "outputs": [
        {
          "name": "stderr",
          "output_type": "stream",
          "text": [
            "/usr/local/lib/python3.7/dist-packages/seaborn/_decorators.py:43: FutureWarning: Pass the following variable as a keyword arg: x. From version 0.12, the only valid positional argument will be `data`, and passing other arguments without an explicit keyword will result in an error or misinterpretation.\n",
            "  FutureWarning\n"
          ]
        },
        {
          "data": {
            "text/plain": [
              "<matplotlib.axes._subplots.AxesSubplot at 0x7fe72d9fcb10>"
            ]
          },
          "execution_count": 137,
          "metadata": {},
          "output_type": "execute_result"
        },
        {
          "data": {
            "image/png": "[encoded data removed]",
            "text/plain": [
              "<Figure size 720x432 with 1 Axes>"
            ]
          },
          "metadata": {},
          "output_type": "display_data"
        }
      ],
      "source": [
        "plt.figure(figsize=(10,6))\n",
        "sns.countplot('subject',data=fake)"
      ]
    },
    {
      "cell_type": "code",
      "execution_count": null,
      "metadata": {
        "id": "WwBOs7spuQ94"
      },
      "outputs": [],
      "source": [
        "text =' '.join(fake['text'].tolist())"
      ]
    },
    {
      "cell_type": "code",
      "execution_count": null,
      "metadata": {
        "id": "JA8vNG2q_sur"
      },
      "outputs": [],
      "source": [
        "wordcloud= WordCloud(width=1920, height=1080).generate(text)\n",
        "fig = plt.figure(figsize=(10,10))\n",
        "plt.imshow(wordcloud)\n",
        "plt.axis('off')\n",
        "plt.tight_layout(pad=0)\n",
        "plt.show()"
      ]
    },
    {
      "cell_type": "code",
      "execution_count": null,
      "metadata": {
        "id": "4BhhnFPnBVg9"
      },
      "outputs": [],
      "source": [
        "real= pd.read_csv('https://raw.githubusercontent.com/laxmimerit/fake-real-news-dataset/main/data/True.csv')"
      ]
    },
    {
      "cell_type": "code",
      "execution_count": null,
      "metadata": {
        "id": "CnFzUOBvDsS_"
      },
      "outputs": [],
      "source": [
        "text =' '.join(real['text'].tolist())"
      ]
    },
    {
      "cell_type": "code",
      "execution_count": null,
      "metadata": {
        "colab": {
          "background_save": true
        },
        "id": "cp2rMJygD1Mu",
        "outputId": "7dbd6fd1-57e8-4c3f-9f52-c95c892bec7d"
      },
      "outputs": [
        {
          "data": {
            "image/png": "[encoded data removed]",
            "text/plain": [
              "<Figure size 720x720 with 1 Axes>"
            ]
          },
          "metadata": {},
          "output_type": "display_data"
        }
      ],
      "source": [
        "wordcloud= WordCloud(width=1920, height=1080).generate(text)\n",
        "fig = plt.figure(figsize=(10,10))\n",
        "plt.imshow(wordcloud)\n",
        "plt.axis('off')\n",
        "plt.tight_layout(pad=0)\n",
        "plt.show()"
      ]
    },
    {
      "cell_type": "markdown",
      "metadata": {
        "id": "MsYcEOh1G2Oi"
      },
      "source": [
        "**CLEANING DATA**"
      ]
    },
    {
      "cell_type": "code",
      "execution_count": null,
      "metadata": {
        "colab": {
          "background_save": true
        },
        "id": "dLO8j5IhHAAQ",
        "outputId": "b42a75fa-cb7d-4ebe-f621-d90cb1e9fc60"
      },
      "outputs": [
        {
          "data": {
            "text/html": [
              "\n",
              "  <div id=\"df-e35619d8-eb91-4e59-84a2-e07f7d52ccbf\">\n",
              "    <div class=\"colab-df-container\">\n",
              "      <div>\n",
              "<style scoped>\n",
              "    .dataframe tbody tr th:only-of-type {\n",
              "        vertical-align: middle;\n",
              "    }\n",
              "\n",
              "    .dataframe tbody tr th {\n",
              "        vertical-align: top;\n",
              "    }\n",
              "\n",
              "    .dataframe thead th {\n",
              "        text-align: right;\n",
              "    }\n",
              "</style>\n",
              "<table border=\"1\" class=\"dataframe\">\n",
              "  <thead>\n",
              "    <tr style=\"text-align: right;\">\n",
              "      <th></th>\n",
              "      <th>title</th>\n",
              "      <th>text</th>\n",
              "      <th>subject</th>\n",
              "      <th>date</th>\n",
              "    </tr>\n",
              "  </thead>\n",
              "  <tbody>\n",
              "    <tr>\n",
              "      <th>10523</th>\n",
              "      <td>2008 Republican nominee John McCain joins Romn...</td>\n",
              "      <td>WASHINGTON (Reuters) - U.S. Senator John McCai...</td>\n",
              "      <td>politicsNews</td>\n",
              "      <td>March 3, 2016</td>\n",
              "    </tr>\n",
              "    <tr>\n",
              "      <th>13194</th>\n",
              "      <td>Corsica's nationalists press for autonomy talk...</td>\n",
              "      <td>AJACCIO, France (Reuters) - Corsican nationali...</td>\n",
              "      <td>worldnews</td>\n",
              "      <td>December 4, 2017</td>\n",
              "    </tr>\n",
              "    <tr>\n",
              "      <th>3032</th>\n",
              "      <td>Trump says Obama 'colluded' on Russia, without...</td>\n",
              "      <td>WASHINGTON (Reuters) - U.S. President Donald T...</td>\n",
              "      <td>politicsNews</td>\n",
              "      <td>June 26, 2017</td>\n",
              "    </tr>\n",
              "    <tr>\n",
              "      <th>8645</th>\n",
              "      <td>Obama's brother plans to vote for Trump</td>\n",
              "      <td>NAIROBI (Reuters) - President Barack Obama’s ...</td>\n",
              "      <td>politicsNews</td>\n",
              "      <td>July 25, 2016</td>\n",
              "    </tr>\n",
              "    <tr>\n",
              "      <th>19489</th>\n",
              "      <td>New Zealand jet fuel rations increased as gove...</td>\n",
              "      <td>WELLINGTON (Reuters) - New Zealand will partia...</td>\n",
              "      <td>worldnews</td>\n",
              "      <td>September 21, 2017</td>\n",
              "    </tr>\n",
              "    <tr>\n",
              "      <th>7177</th>\n",
              "      <td>Top Senate Democrat cites civil rights concern...</td>\n",
              "      <td>WASHINGTON (Reuters) - Incoming U.S. Senate De...</td>\n",
              "      <td>politicsNews</td>\n",
              "      <td>November 18, 2016</td>\n",
              "    </tr>\n",
              "    <tr>\n",
              "      <th>20418</th>\n",
              "      <td>Azeri court releases head of independent Azeri...</td>\n",
              "      <td>BAKU (Reuters) - An Azeri court on Monday rele...</td>\n",
              "      <td>worldnews</td>\n",
              "      <td>September 11, 2017</td>\n",
              "    </tr>\n",
              "    <tr>\n",
              "      <th>17008</th>\n",
              "      <td>War criminal or role model? It's a thin line i...</td>\n",
              "      <td>LJUBLJANA/BELGRADE (Reuters) - In 2009, Serbia...</td>\n",
              "      <td>worldnews</td>\n",
              "      <td>October 19, 2017</td>\n",
              "    </tr>\n",
              "    <tr>\n",
              "      <th>17358</th>\n",
              "      <td>Iraq warns Kurdistan not to shut down Kirkuk o...</td>\n",
              "      <td>BAGHDAD (Reuters) - Iraq said on Monday it was...</td>\n",
              "      <td>worldnews</td>\n",
              "      <td>October 16, 2017</td>\n",
              "    </tr>\n",
              "    <tr>\n",
              "      <th>16537</th>\n",
              "      <td>Troops and strays, the only signs of life in r...</td>\n",
              "      <td>MARAWI CITY, Philippines (Reuters) - With vehi...</td>\n",
              "      <td>worldnews</td>\n",
              "      <td>October 25, 2017</td>\n",
              "    </tr>\n",
              "    <tr>\n",
              "      <th>6091</th>\n",
              "      <td>Senate energy panel delays Tuesday votes on Pe...</td>\n",
              "      <td>WASHINGTON (Reuters) - The Senate energy commi...</td>\n",
              "      <td>politicsNews</td>\n",
              "      <td>January 24, 2017</td>\n",
              "    </tr>\n",
              "    <tr>\n",
              "      <th>4270</th>\n",
              "      <td>Democratic U.S. senator questions Deutsche Ban...</td>\n",
              "      <td>WASHINGTON (Reuters) - A Democratic U.S. senat...</td>\n",
              "      <td>politicsNews</td>\n",
              "      <td>April 12, 2017</td>\n",
              "    </tr>\n",
              "    <tr>\n",
              "      <th>3157</th>\n",
              "      <td>White House demands Cuba take 'concrete' refor...</td>\n",
              "      <td>WASHINGTON (Reuters) - The Trump administratio...</td>\n",
              "      <td>politicsNews</td>\n",
              "      <td>June 16, 2017</td>\n",
              "    </tr>\n",
              "    <tr>\n",
              "      <th>18723</th>\n",
              "      <td>Migrant smuggling crackdown triggered clashes ...</td>\n",
              "      <td>TRIPOLI (Reuters) - An armed group in the Liby...</td>\n",
              "      <td>worldnews</td>\n",
              "      <td>September 29, 2017</td>\n",
              "    </tr>\n",
              "    <tr>\n",
              "      <th>15942</th>\n",
              "      <td>UK PM May says takes allegations of Russian in...</td>\n",
              "      <td>LONDON (Reuters) - Prime Minister Theresa May ...</td>\n",
              "      <td>worldnews</td>\n",
              "      <td>November 1, 2017</td>\n",
              "    </tr>\n",
              "  </tbody>\n",
              "</table>\n",
              "</div>\n",
              "      <button class=\"colab-df-convert\" onclick=\"convertToInteractive('df-e35619d8-eb91-4e59-84a2-e07f7d52ccbf')\"\n",
              "              title=\"Convert this dataframe to an interactive table.\"\n",
              "              style=\"display:none;\">\n",
              "        \n",
              "  <svg xmlns=\"http://www.w3.org/2000/svg\" height=\"24px\"viewBox=\"0 0 24 24\"\n",
              "       width=\"24px\">\n",
              "    <path d=\"M0 0h24v24H0V0z\" fill=\"none\"/>\n",
              "    <path d=\"M18.56 5.44l.94 2.06.94-2.06 2.06-.94-2.06-.94-.94-2.06-.94 2.06-2.06.94zm-11 1L8.5 8.5l.94-2.06 2.06-.94-2.06-.94L8.5 2.5l-.94 2.06-2.06.94zm10 10l.94 2.06.94-2.06 2.06-.94-2.06-.94-.94-2.06-.94 2.06-2.06.94z\"/><path d=\"M17.41 7.96l-1.37-1.37c-.4-.4-.92-.59-1.43-.59-.52 0-1.04.2-1.43.59L10.3 9.45l-7.72 7.72c-.78.78-.78 2.05 0 2.83L4 21.41c.39.39.9.59 1.41.59.51 0 1.02-.2 1.41-.59l7.78-7.78 2.81-2.81c.8-.78.8-2.07 0-2.86zM5.41 20L4 18.59l7.72-7.72 1.47 1.35L5.41 20z\"/>\n",
              "  </svg>\n",
              "      </button>\n",
              "      \n",
              "  <style>\n",
              "    .colab-df-container {\n",
              "      display:flex;\n",
              "      flex-wrap:wrap;\n",
              "      gap: 12px;\n",
              "    }\n",
              "\n",
              "    .colab-df-convert {\n",
              "      background-color: #E8F0FE;\n",
              "      border: none;\n",
              "      border-radius: 50%;\n",
              "      cursor: pointer;\n",
              "      display: none;\n",
              "      fill: #1967D2;\n",
              "      height: 32px;\n",
              "      padding: 0 0 0 0;\n",
              "      width: 32px;\n",
              "    }\n",
              "\n",
              "    .colab-df-convert:hover {\n",
              "      background-color: #E2EBFA;\n",
              "      box-shadow: 0px 1px 2px rgba(60, 64, 67, 0.3), 0px 1px 3px 1px rgba(60, 64, 67, 0.15);\n",
              "      fill: #174EA6;\n",
              "    }\n",
              "\n",
              "    [theme=dark] .colab-df-convert {\n",
              "      background-color: #3B4455;\n",
              "      fill: #D2E3FC;\n",
              "    }\n",
              "\n",
              "    [theme=dark] .colab-df-convert:hover {\n",
              "      background-color: #434B5C;\n",
              "      box-shadow: 0px 1px 3px 1px rgba(0, 0, 0, 0.15);\n",
              "      filter: drop-shadow(0px 1px 2px rgba(0, 0, 0, 0.3));\n",
              "      fill: #FFFFFF;\n",
              "    }\n",
              "  </style>\n",
              "\n",
              "      <script>\n",
              "        const buttonEl =\n",
              "          document.querySelector('#df-e35619d8-eb91-4e59-84a2-e07f7d52ccbf button.colab-df-convert');\n",
              "        buttonEl.style.display =\n",
              "          google.colab.kernel.accessAllowed ? 'block' : 'none';\n",
              "\n",
              "        async function convertToInteractive(key) {\n",
              "          const element = document.querySelector('#df-e35619d8-eb91-4e59-84a2-e07f7d52ccbf');\n",
              "          const dataTable =\n",
              "            await google.colab.kernel.invokeFunction('convertToInteractive',\n",
              "                                                     [key], {});\n",
              "          if (!dataTable) return;\n",
              "\n",
              "          const docLinkHtml = 'Like what you see? Visit the ' +\n",
              "            '<a target=\"_blank\" href=https://colab.research.google.com/notebooks/data_table.ipynb>data table notebook</a>'\n",
              "            + ' to learn more about interactive tables.';\n",
              "          element.innerHTML = '';\n",
              "          dataTable['output_type'] = 'display_data';\n",
              "          await google.colab.output.renderOutput(dataTable, element);\n",
              "          const docLink = document.createElement('div');\n",
              "          docLink.innerHTML = docLinkHtml;\n",
              "          element.appendChild(docLink);\n",
              "        }\n",
              "      </script>\n",
              "    </div>\n",
              "  </div>\n",
              "  "
            ],
            "text/plain": [
              "                                                   title  \\\n",
              "10523  2008 Republican nominee John McCain joins Romn...   \n",
              "13194  Corsica's nationalists press for autonomy talk...   \n",
              "3032   Trump says Obama 'colluded' on Russia, without...   \n",
              "8645             Obama's brother plans to vote for Trump   \n",
              "19489  New Zealand jet fuel rations increased as gove...   \n",
              "7177   Top Senate Democrat cites civil rights concern...   \n",
              "20418  Azeri court releases head of independent Azeri...   \n",
              "17008  War criminal or role model? It's a thin line i...   \n",
              "17358  Iraq warns Kurdistan not to shut down Kirkuk o...   \n",
              "16537  Troops and strays, the only signs of life in r...   \n",
              "6091   Senate energy panel delays Tuesday votes on Pe...   \n",
              "4270   Democratic U.S. senator questions Deutsche Ban...   \n",
              "3157   White House demands Cuba take 'concrete' refor...   \n",
              "18723  Migrant smuggling crackdown triggered clashes ...   \n",
              "15942  UK PM May says takes allegations of Russian in...   \n",
              "\n",
              "                                                    text       subject  \\\n",
              "10523  WASHINGTON (Reuters) - U.S. Senator John McCai...  politicsNews   \n",
              "13194  AJACCIO, France (Reuters) - Corsican nationali...     worldnews   \n",
              "3032   WASHINGTON (Reuters) - U.S. President Donald T...  politicsNews   \n",
              "8645    NAIROBI (Reuters) - President Barack Obama’s ...  politicsNews   \n",
              "19489  WELLINGTON (Reuters) - New Zealand will partia...     worldnews   \n",
              "7177   WASHINGTON (Reuters) - Incoming U.S. Senate De...  politicsNews   \n",
              "20418  BAKU (Reuters) - An Azeri court on Monday rele...     worldnews   \n",
              "17008  LJUBLJANA/BELGRADE (Reuters) - In 2009, Serbia...     worldnews   \n",
              "17358  BAGHDAD (Reuters) - Iraq said on Monday it was...     worldnews   \n",
              "16537  MARAWI CITY, Philippines (Reuters) - With vehi...     worldnews   \n",
              "6091   WASHINGTON (Reuters) - The Senate energy commi...  politicsNews   \n",
              "4270   WASHINGTON (Reuters) - A Democratic U.S. senat...  politicsNews   \n",
              "3157   WASHINGTON (Reuters) - The Trump administratio...  politicsNews   \n",
              "18723  TRIPOLI (Reuters) - An armed group in the Liby...     worldnews   \n",
              "15942  LONDON (Reuters) - Prime Minister Theresa May ...     worldnews   \n",
              "\n",
              "                      date  \n",
              "10523       March 3, 2016   \n",
              "13194    December 4, 2017   \n",
              "3032        June 26, 2017   \n",
              "8645        July 25, 2016   \n",
              "19489  September 21, 2017   \n",
              "7177    November 18, 2016   \n",
              "20418  September 11, 2017   \n",
              "17008    October 19, 2017   \n",
              "17358    October 16, 2017   \n",
              "16537    October 25, 2017   \n",
              "6091     January 24, 2017   \n",
              "4270       April 12, 2017   \n",
              "3157        June 16, 2017   \n",
              "18723  September 29, 2017   \n",
              "15942    November 1, 2017   "
            ]
          },
          "execution_count": 80,
          "metadata": {},
          "output_type": "execute_result"
        }
      ],
      "source": [
        "real.sample(15)"
      ]
    },
    {
      "cell_type": "code",
      "execution_count": null,
      "metadata": {
        "colab": {
          "background_save": true
        },
        "id": "F1tWxP3OJPUM"
      },
      "outputs": [],
      "source": [
        "unknown_publishers = []\n",
        "for index, row in enumerate(real.text.values):\n",
        "  try:\n",
        "    record=row.split('-', maxsplit=1)\n",
        "    record[1]\n",
        "    assert(len(record[0])<120)\n",
        "  except:\n",
        "    unknown_publishers.append(index)"
      ]
    },
    {
      "cell_type": "code",
      "execution_count": null,
      "metadata": {
        "colab": {
          "background_save": true
        },
        "id": "4wasUjqiLqhS",
        "outputId": "48ceb419-b43a-4ace-b4d2-a23ef4faa394"
      },
      "outputs": [
        {
          "data": {
            "text/plain": [
              "222"
            ]
          },
          "execution_count": 82,
          "metadata": {},
          "output_type": "execute_result"
        }
      ],
      "source": [
        "len(unknown_publishers)"
      ]
    },
    {
      "cell_type": "code",
      "execution_count": null,
      "metadata": {
        "colab": {
          "background_save": true
        },
        "id": "hOLeJj0pPIod",
        "outputId": "b7b7be5d-c8c2-4ec5-a69f-c947b0a46b26"
      },
      "outputs": [
        {
          "data": {
            "text/html": [
              "\n",
              "  <div id=\"df-888c5f36-0d3a-430d-9130-c10e3e8eb08d\">\n",
              "    <div class=\"colab-df-container\">\n",
              "      <div>\n",
              "<style scoped>\n",
              "    .dataframe tbody tr th:only-of-type {\n",
              "        vertical-align: middle;\n",
              "    }\n",
              "\n",
              "    .dataframe tbody tr th {\n",
              "        vertical-align: top;\n",
              "    }\n",
              "\n",
              "    .dataframe thead th {\n",
              "        text-align: right;\n",
              "    }\n",
              "</style>\n",
              "<table border=\"1\" class=\"dataframe\">\n",
              "  <thead>\n",
              "    <tr style=\"text-align: right;\">\n",
              "      <th></th>\n",
              "      <th>title</th>\n",
              "      <th>text</th>\n",
              "      <th>subject</th>\n",
              "      <th>date</th>\n",
              "    </tr>\n",
              "  </thead>\n",
              "  <tbody>\n",
              "    <tr>\n",
              "      <th>7</th>\n",
              "      <td>Factbox: Trump on Twitter (Dec 29) - Approval ...</td>\n",
              "      <td>The following statements were posted to the ve...</td>\n",
              "      <td>politicsNews</td>\n",
              "      <td>December 29, 2017</td>\n",
              "    </tr>\n",
              "    <tr>\n",
              "      <th>8</th>\n",
              "      <td>Trump on Twitter (Dec 28) - Global Warming</td>\n",
              "      <td>The following statements were posted to the ve...</td>\n",
              "      <td>politicsNews</td>\n",
              "      <td>December 29, 2017</td>\n",
              "    </tr>\n",
              "    <tr>\n",
              "      <th>12</th>\n",
              "      <td>Factbox: Trump on Twitter (Dec 28) - Vanity Fa...</td>\n",
              "      <td>The following statements were posted to the ve...</td>\n",
              "      <td>politicsNews</td>\n",
              "      <td>December 28, 2017</td>\n",
              "    </tr>\n",
              "    <tr>\n",
              "      <th>13</th>\n",
              "      <td>Trump on Twitter (Dec 27) - Trump, Iraq, Syria</td>\n",
              "      <td>The following statements were posted to the ve...</td>\n",
              "      <td>politicsNews</td>\n",
              "      <td>December 28, 2017</td>\n",
              "    </tr>\n",
              "    <tr>\n",
              "      <th>14</th>\n",
              "      <td>Man says he delivered manure to Mnuchin to pro...</td>\n",
              "      <td>(In Dec. 25 story, in second paragraph, corre...</td>\n",
              "      <td>politicsNews</td>\n",
              "      <td>December 25, 2017</td>\n",
              "    </tr>\n",
              "    <tr>\n",
              "      <th>...</th>\n",
              "      <td>...</td>\n",
              "      <td>...</td>\n",
              "      <td>...</td>\n",
              "      <td>...</td>\n",
              "    </tr>\n",
              "    <tr>\n",
              "      <th>20135</th>\n",
              "      <td>China's big money trumps U.S. influence in Cam...</td>\n",
              "      <td>(Story corrects to million from billion in pa...</td>\n",
              "      <td>worldnews</td>\n",
              "      <td>September 11, 2017</td>\n",
              "    </tr>\n",
              "    <tr>\n",
              "      <th>20500</th>\n",
              "      <td>UK publisher rejected request to block academi...</td>\n",
              "      <td>(This Sept 8 story corrects headline, clarifi...</td>\n",
              "      <td>worldnews</td>\n",
              "      <td>September 8, 2017</td>\n",
              "    </tr>\n",
              "    <tr>\n",
              "      <th>20667</th>\n",
              "      <td>Rohingya say their village is lost to Myanmar'...</td>\n",
              "      <td>(Story refiles to add dropped word  not , in ...</td>\n",
              "      <td>worldnews</td>\n",
              "      <td>September 7, 2017</td>\n",
              "    </tr>\n",
              "    <tr>\n",
              "      <th>21246</th>\n",
              "      <td>'Gates of Hell': Iraqi army says fighting near...</td>\n",
              "      <td>(Story corrects third paragraph to show Mosul...</td>\n",
              "      <td>worldnews</td>\n",
              "      <td>August 29, 2017</td>\n",
              "    </tr>\n",
              "    <tr>\n",
              "      <th>21339</th>\n",
              "      <td>Indian court's privacy ruling is blow to gover...</td>\n",
              "      <td>(Story corrects to fix spelling in paragraph ...</td>\n",
              "      <td>worldnews</td>\n",
              "      <td>August 24, 2017</td>\n",
              "    </tr>\n",
              "  </tbody>\n",
              "</table>\n",
              "<p>222 rows × 4 columns</p>\n",
              "</div>\n",
              "      <button class=\"colab-df-convert\" onclick=\"convertToInteractive('df-888c5f36-0d3a-430d-9130-c10e3e8eb08d')\"\n",
              "              title=\"Convert this dataframe to an interactive table.\"\n",
              "              style=\"display:none;\">\n",
              "        \n",
              "  <svg xmlns=\"http://www.w3.org/2000/svg\" height=\"24px\"viewBox=\"0 0 24 24\"\n",
              "       width=\"24px\">\n",
              "    <path d=\"M0 0h24v24H0V0z\" fill=\"none\"/>\n",
              "    <path d=\"M18.56 5.44l.94 2.06.94-2.06 2.06-.94-2.06-.94-.94-2.06-.94 2.06-2.06.94zm-11 1L8.5 8.5l.94-2.06 2.06-.94-2.06-.94L8.5 2.5l-.94 2.06-2.06.94zm10 10l.94 2.06.94-2.06 2.06-.94-2.06-.94-.94-2.06-.94 2.06-2.06.94z\"/><path d=\"M17.41 7.96l-1.37-1.37c-.4-.4-.92-.59-1.43-.59-.52 0-1.04.2-1.43.59L10.3 9.45l-7.72 7.72c-.78.78-.78 2.05 0 2.83L4 21.41c.39.39.9.59 1.41.59.51 0 1.02-.2 1.41-.59l7.78-7.78 2.81-2.81c.8-.78.8-2.07 0-2.86zM5.41 20L4 18.59l7.72-7.72 1.47 1.35L5.41 20z\"/>\n",
              "  </svg>\n",
              "      </button>\n",
              "      \n",
              "  <style>\n",
              "    .colab-df-container {\n",
              "      display:flex;\n",
              "      flex-wrap:wrap;\n",
              "      gap: 12px;\n",
              "    }\n",
              "\n",
              "    .colab-df-convert {\n",
              "      background-color: #E8F0FE;\n",
              "      border: none;\n",
              "      border-radius: 50%;\n",
              "      cursor: pointer;\n",
              "      display: none;\n",
              "      fill: #1967D2;\n",
              "      height: 32px;\n",
              "      padding: 0 0 0 0;\n",
              "      width: 32px;\n",
              "    }\n",
              "\n",
              "    .colab-df-convert:hover {\n",
              "      background-color: #E2EBFA;\n",
              "      box-shadow: 0px 1px 2px rgba(60, 64, 67, 0.3), 0px 1px 3px 1px rgba(60, 64, 67, 0.15);\n",
              "      fill: #174EA6;\n",
              "    }\n",
              "\n",
              "    [theme=dark] .colab-df-convert {\n",
              "      background-color: #3B4455;\n",
              "      fill: #D2E3FC;\n",
              "    }\n",
              "\n",
              "    [theme=dark] .colab-df-convert:hover {\n",
              "      background-color: #434B5C;\n",
              "      box-shadow: 0px 1px 3px 1px rgba(0, 0, 0, 0.15);\n",
              "      filter: drop-shadow(0px 1px 2px rgba(0, 0, 0, 0.3));\n",
              "      fill: #FFFFFF;\n",
              "    }\n",
              "  </style>\n",
              "\n",
              "      <script>\n",
              "        const buttonEl =\n",
              "          document.querySelector('#df-888c5f36-0d3a-430d-9130-c10e3e8eb08d button.colab-df-convert');\n",
              "        buttonEl.style.display =\n",
              "          google.colab.kernel.accessAllowed ? 'block' : 'none';\n",
              "\n",
              "        async function convertToInteractive(key) {\n",
              "          const element = document.querySelector('#df-888c5f36-0d3a-430d-9130-c10e3e8eb08d');\n",
              "          const dataTable =\n",
              "            await google.colab.kernel.invokeFunction('convertToInteractive',\n",
              "                                                     [key], {});\n",
              "          if (!dataTable) return;\n",
              "\n",
              "          const docLinkHtml = 'Like what you see? Visit the ' +\n",
              "            '<a target=\"_blank\" href=https://colab.research.google.com/notebooks/data_table.ipynb>data table notebook</a>'\n",
              "            + ' to learn more about interactive tables.';\n",
              "          element.innerHTML = '';\n",
              "          dataTable['output_type'] = 'display_data';\n",
              "          await google.colab.output.renderOutput(dataTable, element);\n",
              "          const docLink = document.createElement('div');\n",
              "          docLink.innerHTML = docLinkHtml;\n",
              "          element.appendChild(docLink);\n",
              "        }\n",
              "      </script>\n",
              "    </div>\n",
              "  </div>\n",
              "  "
            ],
            "text/plain": [
              "                                                   title  \\\n",
              "7      Factbox: Trump on Twitter (Dec 29) - Approval ...   \n",
              "8             Trump on Twitter (Dec 28) - Global Warming   \n",
              "12     Factbox: Trump on Twitter (Dec 28) - Vanity Fa...   \n",
              "13        Trump on Twitter (Dec 27) - Trump, Iraq, Syria   \n",
              "14     Man says he delivered manure to Mnuchin to pro...   \n",
              "...                                                  ...   \n",
              "20135  China's big money trumps U.S. influence in Cam...   \n",
              "20500  UK publisher rejected request to block academi...   \n",
              "20667  Rohingya say their village is lost to Myanmar'...   \n",
              "21246  'Gates of Hell': Iraqi army says fighting near...   \n",
              "21339  Indian court's privacy ruling is blow to gover...   \n",
              "\n",
              "                                                    text       subject  \\\n",
              "7      The following statements were posted to the ve...  politicsNews   \n",
              "8      The following statements were posted to the ve...  politicsNews   \n",
              "12     The following statements were posted to the ve...  politicsNews   \n",
              "13     The following statements were posted to the ve...  politicsNews   \n",
              "14      (In Dec. 25 story, in second paragraph, corre...  politicsNews   \n",
              "...                                                  ...           ...   \n",
              "20135   (Story corrects to million from billion in pa...     worldnews   \n",
              "20500   (This Sept 8 story corrects headline, clarifi...     worldnews   \n",
              "20667   (Story refiles to add dropped word  not , in ...     worldnews   \n",
              "21246   (Story corrects third paragraph to show Mosul...     worldnews   \n",
              "21339   (Story corrects to fix spelling in paragraph ...     worldnews   \n",
              "\n",
              "                      date  \n",
              "7       December 29, 2017   \n",
              "8       December 29, 2017   \n",
              "12      December 28, 2017   \n",
              "13      December 28, 2017   \n",
              "14      December 25, 2017   \n",
              "...                    ...  \n",
              "20135  September 11, 2017   \n",
              "20500   September 8, 2017   \n",
              "20667   September 7, 2017   \n",
              "21246     August 29, 2017   \n",
              "21339     August 24, 2017   \n",
              "\n",
              "[222 rows x 4 columns]"
            ]
          },
          "execution_count": 83,
          "metadata": {},
          "output_type": "execute_result"
        }
      ],
      "source": [
        "real.iloc[unknown_publishers]"
      ]
    },
    {
      "cell_type": "code",
      "execution_count": null,
      "metadata": {
        "colab": {
          "background_save": true
        },
        "id": "FECkYA4HTj2W",
        "outputId": "ea0b2082-32b3-42fb-f4fb-440e86be0c0e"
      },
      "outputs": [
        {
          "data": {
            "text/plain": [
              "title      Graphic: Supreme Court roundup\n",
              "text                                     \n",
              "subject                      politicsNews\n",
              "date                       June 16, 2016 \n",
              "Name: 8970, dtype: object"
            ]
          },
          "execution_count": 84,
          "metadata": {},
          "output_type": "execute_result"
        }
      ],
      "source": [
        "real.iloc[8970]"
      ]
    },
    {
      "cell_type": "code",
      "execution_count": null,
      "metadata": {
        "colab": {
          "background_save": true
        },
        "id": "AJtndrucVm2N"
      },
      "outputs": [],
      "source": [
        "real = real.drop(8970, axis=0)"
      ]
    },
    {
      "cell_type": "code",
      "execution_count": null,
      "metadata": {
        "colab": {
          "background_save": true
        },
        "id": "XVLQx3hZT84v"
      },
      "outputs": [],
      "source": [
        "publisher=[]\n",
        "tmp_text=[]\n",
        "\n",
        "for index, row in enumerate(real.text.values):\n",
        "  if index in unknown_publishers:\n",
        "    tmp_text.append(row)\n",
        "    publisher.append('Unknown')\n",
        "  else:\n",
        "    record = row.split('-', maxsplit=1)\n",
        "    publisher.append(record[0].strip())\n",
        "    tmp_text.append(record[1].strip())"
      ]
    },
    {
      "cell_type": "code",
      "execution_count": null,
      "metadata": {
        "colab": {
          "background_save": true
        },
        "id": "ljPec9ZjWw7p"
      },
      "outputs": [],
      "source": [
        "real['publisher']=publisher\n",
        "real['text']=tmp_text"
      ]
    },
    {
      "cell_type": "code",
      "execution_count": null,
      "metadata": {
        "colab": {
          "background_save": true
        },
        "id": "X7zPKKpVXEuv",
        "outputId": "cb30641e-20a1-43a5-ae4c-7e7463540d26"
      },
      "outputs": [
        {
          "data": {
            "text/html": [
              "\n",
              "  <div id=\"df-4cfd45d0-9801-4f97-84b3-27c8a80ad6ee\">\n",
              "    <div class=\"colab-df-container\">\n",
              "      <div>\n",
              "<style scoped>\n",
              "    .dataframe tbody tr th:only-of-type {\n",
              "        vertical-align: middle;\n",
              "    }\n",
              "\n",
              "    .dataframe tbody tr th {\n",
              "        vertical-align: top;\n",
              "    }\n",
              "\n",
              "    .dataframe thead th {\n",
              "        text-align: right;\n",
              "    }\n",
              "</style>\n",
              "<table border=\"1\" class=\"dataframe\">\n",
              "  <thead>\n",
              "    <tr style=\"text-align: right;\">\n",
              "      <th></th>\n",
              "      <th>title</th>\n",
              "      <th>text</th>\n",
              "      <th>subject</th>\n",
              "      <th>date</th>\n",
              "      <th>publisher</th>\n",
              "    </tr>\n",
              "  </thead>\n",
              "  <tbody>\n",
              "    <tr>\n",
              "      <th>0</th>\n",
              "      <td>As U.S. budget fight looms, Republicans flip t...</td>\n",
              "      <td>The head of a conservative Republican faction ...</td>\n",
              "      <td>politicsNews</td>\n",
              "      <td>December 31, 2017</td>\n",
              "      <td>WASHINGTON (Reuters)</td>\n",
              "    </tr>\n",
              "    <tr>\n",
              "      <th>1</th>\n",
              "      <td>U.S. military to accept transgender recruits o...</td>\n",
              "      <td>Transgender people will be allowed for the fir...</td>\n",
              "      <td>politicsNews</td>\n",
              "      <td>December 29, 2017</td>\n",
              "      <td>WASHINGTON (Reuters)</td>\n",
              "    </tr>\n",
              "    <tr>\n",
              "      <th>2</th>\n",
              "      <td>Senior U.S. Republican senator: 'Let Mr. Muell...</td>\n",
              "      <td>The special counsel investigation of links bet...</td>\n",
              "      <td>politicsNews</td>\n",
              "      <td>December 31, 2017</td>\n",
              "      <td>WASHINGTON (Reuters)</td>\n",
              "    </tr>\n",
              "    <tr>\n",
              "      <th>3</th>\n",
              "      <td>FBI Russia probe helped by Australian diplomat...</td>\n",
              "      <td>Trump campaign adviser George Papadopoulos tol...</td>\n",
              "      <td>politicsNews</td>\n",
              "      <td>December 30, 2017</td>\n",
              "      <td>WASHINGTON (Reuters)</td>\n",
              "    </tr>\n",
              "    <tr>\n",
              "      <th>4</th>\n",
              "      <td>Trump wants Postal Service to charge 'much mor...</td>\n",
              "      <td>President Donald Trump called on the U.S. Post...</td>\n",
              "      <td>politicsNews</td>\n",
              "      <td>December 29, 2017</td>\n",
              "      <td>SEATTLE/WASHINGTON (Reuters)</td>\n",
              "    </tr>\n",
              "  </tbody>\n",
              "</table>\n",
              "</div>\n",
              "      <button class=\"colab-df-convert\" onclick=\"convertToInteractive('df-4cfd45d0-9801-4f97-84b3-27c8a80ad6ee')\"\n",
              "              title=\"Convert this dataframe to an interactive table.\"\n",
              "              style=\"display:none;\">\n",
              "        \n",
              "  <svg xmlns=\"http://www.w3.org/2000/svg\" height=\"24px\"viewBox=\"0 0 24 24\"\n",
              "       width=\"24px\">\n",
              "    <path d=\"M0 0h24v24H0V0z\" fill=\"none\"/>\n",
              "    <path d=\"M18.56 5.44l.94 2.06.94-2.06 2.06-.94-2.06-.94-.94-2.06-.94 2.06-2.06.94zm-11 1L8.5 8.5l.94-2.06 2.06-.94-2.06-.94L8.5 2.5l-.94 2.06-2.06.94zm10 10l.94 2.06.94-2.06 2.06-.94-2.06-.94-.94-2.06-.94 2.06-2.06.94z\"/><path d=\"M17.41 7.96l-1.37-1.37c-.4-.4-.92-.59-1.43-.59-.52 0-1.04.2-1.43.59L10.3 9.45l-7.72 7.72c-.78.78-.78 2.05 0 2.83L4 21.41c.39.39.9.59 1.41.59.51 0 1.02-.2 1.41-.59l7.78-7.78 2.81-2.81c.8-.78.8-2.07 0-2.86zM5.41 20L4 18.59l7.72-7.72 1.47 1.35L5.41 20z\"/>\n",
              "  </svg>\n",
              "      </button>\n",
              "      \n",
              "  <style>\n",
              "    .colab-df-container {\n",
              "      display:flex;\n",
              "      flex-wrap:wrap;\n",
              "      gap: 12px;\n",
              "    }\n",
              "\n",
              "    .colab-df-convert {\n",
              "      background-color: #E8F0FE;\n",
              "      border: none;\n",
              "      border-radius: 50%;\n",
              "      cursor: pointer;\n",
              "      display: none;\n",
              "      fill: #1967D2;\n",
              "      height: 32px;\n",
              "      padding: 0 0 0 0;\n",
              "      width: 32px;\n",
              "    }\n",
              "\n",
              "    .colab-df-convert:hover {\n",
              "      background-color: #E2EBFA;\n",
              "      box-shadow: 0px 1px 2px rgba(60, 64, 67, 0.3), 0px 1px 3px 1px rgba(60, 64, 67, 0.15);\n",
              "      fill: #174EA6;\n",
              "    }\n",
              "\n",
              "    [theme=dark] .colab-df-convert {\n",
              "      background-color: #3B4455;\n",
              "      fill: #D2E3FC;\n",
              "    }\n",
              "\n",
              "    [theme=dark] .colab-df-convert:hover {\n",
              "      background-color: #434B5C;\n",
              "      box-shadow: 0px 1px 3px 1px rgba(0, 0, 0, 0.15);\n",
              "      filter: drop-shadow(0px 1px 2px rgba(0, 0, 0, 0.3));\n",
              "      fill: #FFFFFF;\n",
              "    }\n",
              "  </style>\n",
              "\n",
              "      <script>\n",
              "        const buttonEl =\n",
              "          document.querySelector('#df-4cfd45d0-9801-4f97-84b3-27c8a80ad6ee button.colab-df-convert');\n",
              "        buttonEl.style.display =\n",
              "          google.colab.kernel.accessAllowed ? 'block' : 'none';\n",
              "\n",
              "        async function convertToInteractive(key) {\n",
              "          const element = document.querySelector('#df-4cfd45d0-9801-4f97-84b3-27c8a80ad6ee');\n",
              "          const dataTable =\n",
              "            await google.colab.kernel.invokeFunction('convertToInteractive',\n",
              "                                                     [key], {});\n",
              "          if (!dataTable) return;\n",
              "\n",
              "          const docLinkHtml = 'Like what you see? Visit the ' +\n",
              "            '<a target=\"_blank\" href=https://colab.research.google.com/notebooks/data_table.ipynb>data table notebook</a>'\n",
              "            + ' to learn more about interactive tables.';\n",
              "          element.innerHTML = '';\n",
              "          dataTable['output_type'] = 'display_data';\n",
              "          await google.colab.output.renderOutput(dataTable, element);\n",
              "          const docLink = document.createElement('div');\n",
              "          docLink.innerHTML = docLinkHtml;\n",
              "          element.appendChild(docLink);\n",
              "        }\n",
              "      </script>\n",
              "    </div>\n",
              "  </div>\n",
              "  "
            ],
            "text/plain": [
              "                                               title  \\\n",
              "0  As U.S. budget fight looms, Republicans flip t...   \n",
              "1  U.S. military to accept transgender recruits o...   \n",
              "2  Senior U.S. Republican senator: 'Let Mr. Muell...   \n",
              "3  FBI Russia probe helped by Australian diplomat...   \n",
              "4  Trump wants Postal Service to charge 'much mor...   \n",
              "\n",
              "                                                text       subject  \\\n",
              "0  The head of a conservative Republican faction ...  politicsNews   \n",
              "1  Transgender people will be allowed for the fir...  politicsNews   \n",
              "2  The special counsel investigation of links bet...  politicsNews   \n",
              "3  Trump campaign adviser George Papadopoulos tol...  politicsNews   \n",
              "4  President Donald Trump called on the U.S. Post...  politicsNews   \n",
              "\n",
              "                 date                     publisher  \n",
              "0  December 31, 2017           WASHINGTON (Reuters)  \n",
              "1  December 29, 2017           WASHINGTON (Reuters)  \n",
              "2  December 31, 2017           WASHINGTON (Reuters)  \n",
              "3  December 30, 2017           WASHINGTON (Reuters)  \n",
              "4  December 29, 2017   SEATTLE/WASHINGTON (Reuters)  "
            ]
          },
          "execution_count": 88,
          "metadata": {},
          "output_type": "execute_result"
        }
      ],
      "source": [
        "real.head()"
      ]
    },
    {
      "cell_type": "code",
      "execution_count": null,
      "metadata": {
        "colab": {
          "background_save": true
        },
        "id": "IYmzjTmfOtz_",
        "outputId": "08003c3c-0c27-47b1-c716-567c13b4d229"
      },
      "outputs": [
        {
          "data": {
            "text/plain": [
              "(21416, 5)"
            ]
          },
          "execution_count": 89,
          "metadata": {},
          "output_type": "execute_result"
        }
      ],
      "source": [
        "real.shape"
      ]
    },
    {
      "cell_type": "code",
      "execution_count": null,
      "metadata": {
        "colab": {
          "background_save": true
        },
        "id": "C9XqozHZPgm3"
      },
      "outputs": [],
      "source": [
        "empty_fake_index=[index for index,text in enumerate(fake.text.tolist()) if str(text).strip()==\"\"]"
      ]
    },
    {
      "cell_type": "code",
      "execution_count": null,
      "metadata": {
        "colab": {
          "background_save": true
        },
        "id": "AdZg4zKtP7EY",
        "outputId": "1b684393-b68e-405e-fcbd-d12db794bc47"
      },
      "outputs": [
        {
          "data": {
            "text/html": [
              "\n",
              "  <div id=\"df-b01185af-4c0d-482c-98bb-22d4b163a273\">\n",
              "    <div class=\"colab-df-container\">\n",
              "      <div>\n",
              "<style scoped>\n",
              "    .dataframe tbody tr th:only-of-type {\n",
              "        vertical-align: middle;\n",
              "    }\n",
              "\n",
              "    .dataframe tbody tr th {\n",
              "        vertical-align: top;\n",
              "    }\n",
              "\n",
              "    .dataframe thead th {\n",
              "        text-align: right;\n",
              "    }\n",
              "</style>\n",
              "<table border=\"1\" class=\"dataframe\">\n",
              "  <thead>\n",
              "    <tr style=\"text-align: right;\">\n",
              "      <th></th>\n",
              "      <th>title</th>\n",
              "      <th>text</th>\n",
              "      <th>subject</th>\n",
              "      <th>date</th>\n",
              "    </tr>\n",
              "  </thead>\n",
              "  <tbody>\n",
              "    <tr>\n",
              "      <th>10923</th>\n",
              "      <td>TAKE OUR POLL: Who Do You Think President Trum...</td>\n",
              "      <td></td>\n",
              "      <td>politics</td>\n",
              "      <td>May 10, 2017</td>\n",
              "    </tr>\n",
              "    <tr>\n",
              "      <th>11041</th>\n",
              "      <td>Joe Scarborough BERATES Mika Brzezinski Over “...</td>\n",
              "      <td></td>\n",
              "      <td>politics</td>\n",
              "      <td>Apr 26, 2017</td>\n",
              "    </tr>\n",
              "    <tr>\n",
              "      <th>11190</th>\n",
              "      <td>WATCH TUCKER CARLSON Scorch Sanctuary City May...</td>\n",
              "      <td></td>\n",
              "      <td>politics</td>\n",
              "      <td>Apr 6, 2017</td>\n",
              "    </tr>\n",
              "    <tr>\n",
              "      <th>11225</th>\n",
              "      <td>MAYOR OF SANCTUARY CITY: Trump Trying To Make ...</td>\n",
              "      <td></td>\n",
              "      <td>politics</td>\n",
              "      <td>Apr 2, 2017</td>\n",
              "    </tr>\n",
              "    <tr>\n",
              "      <th>11236</th>\n",
              "      <td>SHOCKER: Public School Turns Computer Lab Into...</td>\n",
              "      <td></td>\n",
              "      <td>politics</td>\n",
              "      <td>Apr 1, 2017</td>\n",
              "    </tr>\n",
              "    <tr>\n",
              "      <th>...</th>\n",
              "      <td>...</td>\n",
              "      <td>...</td>\n",
              "      <td>...</td>\n",
              "      <td>...</td>\n",
              "    </tr>\n",
              "    <tr>\n",
              "      <th>21816</th>\n",
              "      <td>BALTIMORE BURNS: MARYLAND GOVERNOR BRINGS IN N...</td>\n",
              "      <td></td>\n",
              "      <td>left-news</td>\n",
              "      <td>Apr 27, 2015</td>\n",
              "    </tr>\n",
              "    <tr>\n",
              "      <th>21826</th>\n",
              "      <td>FULL VIDEO: THE BLOCKBUSTER INVESTIGATION INTO...</td>\n",
              "      <td></td>\n",
              "      <td>left-news</td>\n",
              "      <td>Apr 25, 2015</td>\n",
              "    </tr>\n",
              "    <tr>\n",
              "      <th>21827</th>\n",
              "      <td>(VIDEO) HILLARY CLINTON: RELIGIOUS BELIEFS MUS...</td>\n",
              "      <td></td>\n",
              "      <td>left-news</td>\n",
              "      <td>Apr 25, 2015</td>\n",
              "    </tr>\n",
              "    <tr>\n",
              "      <th>21857</th>\n",
              "      <td>(VIDEO)ICE PROTECTING OBAMA: WON’T RELEASE NAM...</td>\n",
              "      <td></td>\n",
              "      <td>left-news</td>\n",
              "      <td>Apr 14, 2015</td>\n",
              "    </tr>\n",
              "    <tr>\n",
              "      <th>21873</th>\n",
              "      <td>(VIDEO) HYSTERICAL SNL TAKE ON HILLARY’S ANNOU...</td>\n",
              "      <td></td>\n",
              "      <td>left-news</td>\n",
              "      <td>Apr 12, 2015</td>\n",
              "    </tr>\n",
              "  </tbody>\n",
              "</table>\n",
              "<p>630 rows × 4 columns</p>\n",
              "</div>\n",
              "      <button class=\"colab-df-convert\" onclick=\"convertToInteractive('df-b01185af-4c0d-482c-98bb-22d4b163a273')\"\n",
              "              title=\"Convert this dataframe to an interactive table.\"\n",
              "              style=\"display:none;\">\n",
              "        \n",
              "  <svg xmlns=\"http://www.w3.org/2000/svg\" height=\"24px\"viewBox=\"0 0 24 24\"\n",
              "       width=\"24px\">\n",
              "    <path d=\"M0 0h24v24H0V0z\" fill=\"none\"/>\n",
              "    <path d=\"M18.56 5.44l.94 2.06.94-2.06 2.06-.94-2.06-.94-.94-2.06-.94 2.06-2.06.94zm-11 1L8.5 8.5l.94-2.06 2.06-.94-2.06-.94L8.5 2.5l-.94 2.06-2.06.94zm10 10l.94 2.06.94-2.06 2.06-.94-2.06-.94-.94-2.06-.94 2.06-2.06.94z\"/><path d=\"M17.41 7.96l-1.37-1.37c-.4-.4-.92-.59-1.43-.59-.52 0-1.04.2-1.43.59L10.3 9.45l-7.72 7.72c-.78.78-.78 2.05 0 2.83L4 21.41c.39.39.9.59 1.41.59.51 0 1.02-.2 1.41-.59l7.78-7.78 2.81-2.81c.8-.78.8-2.07 0-2.86zM5.41 20L4 18.59l7.72-7.72 1.47 1.35L5.41 20z\"/>\n",
              "  </svg>\n",
              "      </button>\n",
              "      \n",
              "  <style>\n",
              "    .colab-df-container {\n",
              "      display:flex;\n",
              "      flex-wrap:wrap;\n",
              "      gap: 12px;\n",
              "    }\n",
              "\n",
              "    .colab-df-convert {\n",
              "      background-color: #E8F0FE;\n",
              "      border: none;\n",
              "      border-radius: 50%;\n",
              "      cursor: pointer;\n",
              "      display: none;\n",
              "      fill: #1967D2;\n",
              "      height: 32px;\n",
              "      padding: 0 0 0 0;\n",
              "      width: 32px;\n",
              "    }\n",
              "\n",
              "    .colab-df-convert:hover {\n",
              "      background-color: #E2EBFA;\n",
              "      box-shadow: 0px 1px 2px rgba(60, 64, 67, 0.3), 0px 1px 3px 1px rgba(60, 64, 67, 0.15);\n",
              "      fill: #174EA6;\n",
              "    }\n",
              "\n",
              "    [theme=dark] .colab-df-convert {\n",
              "      background-color: #3B4455;\n",
              "      fill: #D2E3FC;\n",
              "    }\n",
              "\n",
              "    [theme=dark] .colab-df-convert:hover {\n",
              "      background-color: #434B5C;\n",
              "      box-shadow: 0px 1px 3px 1px rgba(0, 0, 0, 0.15);\n",
              "      filter: drop-shadow(0px 1px 2px rgba(0, 0, 0, 0.3));\n",
              "      fill: #FFFFFF;\n",
              "    }\n",
              "  </style>\n",
              "\n",
              "      <script>\n",
              "        const buttonEl =\n",
              "          document.querySelector('#df-b01185af-4c0d-482c-98bb-22d4b163a273 button.colab-df-convert');\n",
              "        buttonEl.style.display =\n",
              "          google.colab.kernel.accessAllowed ? 'block' : 'none';\n",
              "\n",
              "        async function convertToInteractive(key) {\n",
              "          const element = document.querySelector('#df-b01185af-4c0d-482c-98bb-22d4b163a273');\n",
              "          const dataTable =\n",
              "            await google.colab.kernel.invokeFunction('convertToInteractive',\n",
              "                                                     [key], {});\n",
              "          if (!dataTable) return;\n",
              "\n",
              "          const docLinkHtml = 'Like what you see? Visit the ' +\n",
              "            '<a target=\"_blank\" href=https://colab.research.google.com/notebooks/data_table.ipynb>data table notebook</a>'\n",
              "            + ' to learn more about interactive tables.';\n",
              "          element.innerHTML = '';\n",
              "          dataTable['output_type'] = 'display_data';\n",
              "          await google.colab.output.renderOutput(dataTable, element);\n",
              "          const docLink = document.createElement('div');\n",
              "          docLink.innerHTML = docLinkHtml;\n",
              "          element.appendChild(docLink);\n",
              "        }\n",
              "      </script>\n",
              "    </div>\n",
              "  </div>\n",
              "  "
            ],
            "text/plain": [
              "                                                   title text    subject  \\\n",
              "10923  TAKE OUR POLL: Who Do You Think President Trum...        politics   \n",
              "11041  Joe Scarborough BERATES Mika Brzezinski Over “...        politics   \n",
              "11190  WATCH TUCKER CARLSON Scorch Sanctuary City May...        politics   \n",
              "11225  MAYOR OF SANCTUARY CITY: Trump Trying To Make ...        politics   \n",
              "11236  SHOCKER: Public School Turns Computer Lab Into...        politics   \n",
              "...                                                  ...  ...        ...   \n",
              "21816  BALTIMORE BURNS: MARYLAND GOVERNOR BRINGS IN N...       left-news   \n",
              "21826  FULL VIDEO: THE BLOCKBUSTER INVESTIGATION INTO...       left-news   \n",
              "21827  (VIDEO) HILLARY CLINTON: RELIGIOUS BELIEFS MUS...       left-news   \n",
              "21857  (VIDEO)ICE PROTECTING OBAMA: WON’T RELEASE NAM...       left-news   \n",
              "21873  (VIDEO) HYSTERICAL SNL TAKE ON HILLARY’S ANNOU...       left-news   \n",
              "\n",
              "               date  \n",
              "10923  May 10, 2017  \n",
              "11041  Apr 26, 2017  \n",
              "11190   Apr 6, 2017  \n",
              "11225   Apr 2, 2017  \n",
              "11236   Apr 1, 2017  \n",
              "...             ...  \n",
              "21816  Apr 27, 2015  \n",
              "21826  Apr 25, 2015  \n",
              "21827  Apr 25, 2015  \n",
              "21857  Apr 14, 2015  \n",
              "21873  Apr 12, 2015  \n",
              "\n",
              "[630 rows x 4 columns]"
            ]
          },
          "execution_count": 91,
          "metadata": {},
          "output_type": "execute_result"
        }
      ],
      "source": [
        "fake.iloc[empty_fake_index]"
      ]
    },
    {
      "cell_type": "code",
      "execution_count": null,
      "metadata": {
        "colab": {
          "background_save": true
        },
        "id": "3XGRKMEHQZ9p"
      },
      "outputs": [],
      "source": [
        "real['text']=real['title']+ \" \"+real['text']\n",
        "fake['text']=fake['title']+ \" \"+fake['text']"
      ]
    },
    {
      "cell_type": "code",
      "execution_count": null,
      "metadata": {
        "colab": {
          "background_save": true
        },
        "id": "GuoIp2ksRnSg"
      },
      "outputs": [],
      "source": [
        "real['text']=real['text'].apply(lambda x: str(x).lower())\n",
        "fake['text']=fake['text'].apply(lambda x: str(x).lower())"
      ]
    },
    {
      "cell_type": "markdown",
      "metadata": {
        "id": "U-ec5M7ITk5E"
      },
      "source": [
        "**Preprocessing Data**"
      ]
    },
    {
      "cell_type": "code",
      "execution_count": null,
      "metadata": {
        "colab": {
          "background_save": true
        },
        "id": "UZbVHxz0SR_Y"
      },
      "outputs": [],
      "source": [
        "real['class']=1\n",
        "fake['class']=0"
      ]
    },
    {
      "cell_type": "code",
      "execution_count": null,
      "metadata": {
        "colab": {
          "background_save": true
        },
        "id": "PzYm_qlLT_qs",
        "outputId": "daf9c3ea-7ae8-42a8-9aa8-e0ce3f3d71b7"
      },
      "outputs": [
        {
          "data": {
            "text/plain": [
              "Index(['title', 'text', 'subject', 'date', 'publisher', 'class'], dtype='object')"
            ]
          },
          "execution_count": 95,
          "metadata": {},
          "output_type": "execute_result"
        }
      ],
      "source": [
        "real.columns"
      ]
    },
    {
      "cell_type": "code",
      "execution_count": null,
      "metadata": {
        "colab": {
          "background_save": true
        },
        "id": "hSaIG5j7XTNN"
      },
      "outputs": [],
      "source": [
        "real=real[['text','class']]\n",
        "fake=fake[['text','class']]"
      ]
    },
    {
      "cell_type": "code",
      "execution_count": null,
      "metadata": {
        "colab": {
          "background_save": true
        },
        "id": "RuuUW90yXhQC"
      },
      "outputs": [],
      "source": [
        "data=real.append(fake, ignore_index=True)\n"
      ]
    },
    {
      "cell_type": "code",
      "execution_count": null,
      "metadata": {
        "colab": {
          "background_save": true
        },
        "id": "fp_EUs_IYIcK",
        "outputId": "63f633d5-6970-4c88-e670-4ff9efc7c3cf"
      },
      "outputs": [
        {
          "data": {
            "text/html": [
              "\n",
              "  <div id=\"df-a3e7cf24-2a62-4e23-9d19-4cfbc5dee780\">\n",
              "    <div class=\"colab-df-container\">\n",
              "      <div>\n",
              "<style scoped>\n",
              "    .dataframe tbody tr th:only-of-type {\n",
              "        vertical-align: middle;\n",
              "    }\n",
              "\n",
              "    .dataframe tbody tr th {\n",
              "        vertical-align: top;\n",
              "    }\n",
              "\n",
              "    .dataframe thead th {\n",
              "        text-align: right;\n",
              "    }\n",
              "</style>\n",
              "<table border=\"1\" class=\"dataframe\">\n",
              "  <thead>\n",
              "    <tr style=\"text-align: right;\">\n",
              "      <th></th>\n",
              "      <th>text</th>\n",
              "      <th>class</th>\n",
              "    </tr>\n",
              "  </thead>\n",
              "  <tbody>\n",
              "    <tr>\n",
              "      <th>15106</th>\n",
              "      <td>eu parliament questions independence of police...</td>\n",
              "      <td>1</td>\n",
              "    </tr>\n",
              "    <tr>\n",
              "      <th>20740</th>\n",
              "      <td>syrian opposition leader says u.n. mediation h...</td>\n",
              "      <td>1</td>\n",
              "    </tr>\n",
              "    <tr>\n",
              "      <th>12329</th>\n",
              "      <td>putin says will run as independent candidate f...</td>\n",
              "      <td>1</td>\n",
              "    </tr>\n",
              "    <tr>\n",
              "      <th>31407</th>\n",
              "      <td>lol! comedian joe piscopo warns statue haters:...</td>\n",
              "      <td>0</td>\n",
              "    </tr>\n",
              "    <tr>\n",
              "      <th>1835</th>\n",
              "      <td>new senate obamacare repeal bill due monday: s...</td>\n",
              "      <td>1</td>\n",
              "    </tr>\n",
              "  </tbody>\n",
              "</table>\n",
              "</div>\n",
              "      <button class=\"colab-df-convert\" onclick=\"convertToInteractive('df-a3e7cf24-2a62-4e23-9d19-4cfbc5dee780')\"\n",
              "              title=\"Convert this dataframe to an interactive table.\"\n",
              "              style=\"display:none;\">\n",
              "        \n",
              "  <svg xmlns=\"http://www.w3.org/2000/svg\" height=\"24px\"viewBox=\"0 0 24 24\"\n",
              "       width=\"24px\">\n",
              "    <path d=\"M0 0h24v24H0V0z\" fill=\"none\"/>\n",
              "    <path d=\"M18.56 5.44l.94 2.06.94-2.06 2.06-.94-2.06-.94-.94-2.06-.94 2.06-2.06.94zm-11 1L8.5 8.5l.94-2.06 2.06-.94-2.06-.94L8.5 2.5l-.94 2.06-2.06.94zm10 10l.94 2.06.94-2.06 2.06-.94-2.06-.94-.94-2.06-.94 2.06-2.06.94z\"/><path d=\"M17.41 7.96l-1.37-1.37c-.4-.4-.92-.59-1.43-.59-.52 0-1.04.2-1.43.59L10.3 9.45l-7.72 7.72c-.78.78-.78 2.05 0 2.83L4 21.41c.39.39.9.59 1.41.59.51 0 1.02-.2 1.41-.59l7.78-7.78 2.81-2.81c.8-.78.8-2.07 0-2.86zM5.41 20L4 18.59l7.72-7.72 1.47 1.35L5.41 20z\"/>\n",
              "  </svg>\n",
              "      </button>\n",
              "      \n",
              "  <style>\n",
              "    .colab-df-container {\n",
              "      display:flex;\n",
              "      flex-wrap:wrap;\n",
              "      gap: 12px;\n",
              "    }\n",
              "\n",
              "    .colab-df-convert {\n",
              "      background-color: #E8F0FE;\n",
              "      border: none;\n",
              "      border-radius: 50%;\n",
              "      cursor: pointer;\n",
              "      display: none;\n",
              "      fill: #1967D2;\n",
              "      height: 32px;\n",
              "      padding: 0 0 0 0;\n",
              "      width: 32px;\n",
              "    }\n",
              "\n",
              "    .colab-df-convert:hover {\n",
              "      background-color: #E2EBFA;\n",
              "      box-shadow: 0px 1px 2px rgba(60, 64, 67, 0.3), 0px 1px 3px 1px rgba(60, 64, 67, 0.15);\n",
              "      fill: #174EA6;\n",
              "    }\n",
              "\n",
              "    [theme=dark] .colab-df-convert {\n",
              "      background-color: #3B4455;\n",
              "      fill: #D2E3FC;\n",
              "    }\n",
              "\n",
              "    [theme=dark] .colab-df-convert:hover {\n",
              "      background-color: #434B5C;\n",
              "      box-shadow: 0px 1px 3px 1px rgba(0, 0, 0, 0.15);\n",
              "      filter: drop-shadow(0px 1px 2px rgba(0, 0, 0, 0.3));\n",
              "      fill: #FFFFFF;\n",
              "    }\n",
              "  </style>\n",
              "\n",
              "      <script>\n",
              "        const buttonEl =\n",
              "          document.querySelector('#df-a3e7cf24-2a62-4e23-9d19-4cfbc5dee780 button.colab-df-convert');\n",
              "        buttonEl.style.display =\n",
              "          google.colab.kernel.accessAllowed ? 'block' : 'none';\n",
              "\n",
              "        async function convertToInteractive(key) {\n",
              "          const element = document.querySelector('#df-a3e7cf24-2a62-4e23-9d19-4cfbc5dee780');\n",
              "          const dataTable =\n",
              "            await google.colab.kernel.invokeFunction('convertToInteractive',\n",
              "                                                     [key], {});\n",
              "          if (!dataTable) return;\n",
              "\n",
              "          const docLinkHtml = 'Like what you see? Visit the ' +\n",
              "            '<a target=\"_blank\" href=https://colab.research.google.com/notebooks/data_table.ipynb>data table notebook</a>'\n",
              "            + ' to learn more about interactive tables.';\n",
              "          element.innerHTML = '';\n",
              "          dataTable['output_type'] = 'display_data';\n",
              "          await google.colab.output.renderOutput(dataTable, element);\n",
              "          const docLink = document.createElement('div');\n",
              "          docLink.innerHTML = docLinkHtml;\n",
              "          element.appendChild(docLink);\n",
              "        }\n",
              "      </script>\n",
              "    </div>\n",
              "  </div>\n",
              "  "
            ],
            "text/plain": [
              "                                                    text  class\n",
              "15106  eu parliament questions independence of police...      1\n",
              "20740  syrian opposition leader says u.n. mediation h...      1\n",
              "12329  putin says will run as independent candidate f...      1\n",
              "31407  lol! comedian joe piscopo warns statue haters:...      0\n",
              "1835   new senate obamacare repeal bill due monday: s...      1"
            ]
          },
          "execution_count": 98,
          "metadata": {},
          "output_type": "execute_result"
        }
      ],
      "source": [
        "data.sample(5)"
      ]
    },
    {
      "cell_type": "code",
      "execution_count": null,
      "metadata": {
        "colab": {
          "background_save": true
        },
        "id": "riL_cV-KmVlq",
        "outputId": "7eacf723-c475-4c9f-d17b-d5ef3e5d7c87"
      },
      "outputs": [
        {
          "name": "stdout",
          "output_type": "stream",
          "text": [
            "Looking in indexes: https://pypi.org/simple, https://us-python.pkg.dev/colab-wheels/public/simple/\n",
            "Requirement already satisfied: spacy==2.2.3 in /usr/local/lib/python3.7/dist-packages (2.2.3)\n",
            "Requirement already satisfied: thinc<7.4.0,>=7.3.0 in /usr/local/lib/python3.7/dist-packages (from spacy==2.2.3) (7.3.1)\n",
            "Requirement already satisfied: plac<1.2.0,>=0.9.6 in /usr/local/lib/python3.7/dist-packages (from spacy==2.2.3) (1.1.3)\n",
            "Requirement already satisfied: catalogue<1.1.0,>=0.0.7 in /usr/local/lib/python3.7/dist-packages (from spacy==2.2.3) (1.0.2)\n",
            "Requirement already satisfied: cymem<2.1.0,>=2.0.2 in /usr/local/lib/python3.7/dist-packages (from spacy==2.2.3) (2.0.7)\n",
            "Requirement already satisfied: setuptools in /usr/local/lib/python3.7/dist-packages (from spacy==2.2.3) (57.4.0)\n",
            "Requirement already satisfied: preshed<3.1.0,>=3.0.2 in /usr/local/lib/python3.7/dist-packages (from spacy==2.2.3) (3.0.8)\n",
            "Requirement already satisfied: wasabi<1.1.0,>=0.4.0 in /usr/local/lib/python3.7/dist-packages (from spacy==2.2.3) (0.10.1)\n",
            "Requirement already satisfied: murmurhash<1.1.0,>=0.28.0 in /usr/local/lib/python3.7/dist-packages (from spacy==2.2.3) (1.0.9)\n",
            "Requirement already satisfied: numpy>=1.15.0 in /usr/local/lib/python3.7/dist-packages (from spacy==2.2.3) (1.21.6)\n",
            "Requirement already satisfied: requests<3.0.0,>=2.13.0 in /usr/local/lib/python3.7/dist-packages (from spacy==2.2.3) (2.23.0)\n",
            "Requirement already satisfied: blis<0.5.0,>=0.4.0 in /usr/local/lib/python3.7/dist-packages (from spacy==2.2.3) (0.4.1)\n",
            "Requirement already satisfied: srsly<1.1.0,>=0.1.0 in /usr/local/lib/python3.7/dist-packages (from spacy==2.2.3) (1.0.6)\n",
            "Requirement already satisfied: zipp>=0.5 in /usr/local/lib/python3.7/dist-packages (from catalogue<1.1.0,>=0.0.7->spacy==2.2.3) (3.10.0)\n",
            "Requirement already satisfied: typing-extensions>=3.6.4 in /usr/local/lib/python3.7/dist-packages (from catalogue<1.1.0,>=0.0.7->spacy==2.2.3) (4.1.1)\n",
            "Requirement already satisfied: idna<3,>=2.5 in /usr/local/lib/python3.7/dist-packages (from requests<3.0.0,>=2.13.0->spacy==2.2.3) (2.10)\n",
            "Requirement already satisfied: urllib3!=1.25.0,!=1.25.1,<1.26,>=1.21.1 in /usr/local/lib/python3.7/dist-packages (from requests<3.0.0,>=2.13.0->spacy==2.2.3) (1.24.3)\n",
            "Requirement already satisfied: chardet<4,>=3.0.2 in /usr/local/lib/python3.7/dist-packages (from requests<3.0.0,>=2.13.0->spacy==2.2.3) (3.0.4)\n",
            "Requirement already satisfied: certifi>=2017.4.17 in /usr/local/lib/python3.7/dist-packages (from requests<3.0.0,>=2.13.0->spacy==2.2.3) (2022.9.24)\n",
            "Requirement already satisfied: tqdm<5.0.0,>=4.10.0 in /usr/local/lib/python3.7/dist-packages (from thinc<7.4.0,>=7.3.0->spacy==2.2.3) (4.64.1)\n",
            "Looking in indexes: https://pypi.org/simple, https://us-python.pkg.dev/colab-wheels/public/simple/\n",
            "Collecting en_core_web_sm==2.2.5\n",
            "  Downloading https://github.com/explosion/spacy-models/releases/download/en_core_web_sm-2.2.5/en_core_web_sm-2.2.5.tar.gz (12.0 MB)\n",
            "\u001b[K     |████████████████████████████████| 12.0 MB 29.3 MB/s \n",
            "\u001b[?25hRequirement already satisfied: spacy>=2.2.2 in /usr/local/lib/python3.7/dist-packages (from en_core_web_sm==2.2.5) (2.2.3)\n",
            "Requirement already satisfied: setuptools in /usr/local/lib/python3.7/dist-packages (from spacy>=2.2.2->en_core_web_sm==2.2.5) (57.4.0)\n",
            "Requirement already satisfied: requests<3.0.0,>=2.13.0 in /usr/local/lib/python3.7/dist-packages (from spacy>=2.2.2->en_core_web_sm==2.2.5) (2.23.0)\n",
            "Requirement already satisfied: cymem<2.1.0,>=2.0.2 in /usr/local/lib/python3.7/dist-packages (from spacy>=2.2.2->en_core_web_sm==2.2.5) (2.0.7)\n",
            "Requirement already satisfied: wasabi<1.1.0,>=0.4.0 in /usr/local/lib/python3.7/dist-packages (from spacy>=2.2.2->en_core_web_sm==2.2.5) (0.10.1)\n",
            "Requirement already satisfied: murmurhash<1.1.0,>=0.28.0 in /usr/local/lib/python3.7/dist-packages (from spacy>=2.2.2->en_core_web_sm==2.2.5) (1.0.9)\n",
            "Requirement already satisfied: catalogue<1.1.0,>=0.0.7 in /usr/local/lib/python3.7/dist-packages (from spacy>=2.2.2->en_core_web_sm==2.2.5) (1.0.2)\n",
            "Requirement already satisfied: srsly<1.1.0,>=0.1.0 in /usr/local/lib/python3.7/dist-packages (from spacy>=2.2.2->en_core_web_sm==2.2.5) (1.0.6)\n",
            "Requirement already satisfied: blis<0.5.0,>=0.4.0 in /usr/local/lib/python3.7/dist-packages (from spacy>=2.2.2->en_core_web_sm==2.2.5) (0.4.1)\n",
            "Requirement already satisfied: numpy>=1.15.0 in /usr/local/lib/python3.7/dist-packages (from spacy>=2.2.2->en_core_web_sm==2.2.5) (1.21.6)\n",
            "Requirement already satisfied: preshed<3.1.0,>=3.0.2 in /usr/local/lib/python3.7/dist-packages (from spacy>=2.2.2->en_core_web_sm==2.2.5) (3.0.8)\n",
            "Requirement already satisfied: plac<1.2.0,>=0.9.6 in /usr/local/lib/python3.7/dist-packages (from spacy>=2.2.2->en_core_web_sm==2.2.5) (1.1.3)\n",
            "Requirement already satisfied: thinc<7.4.0,>=7.3.0 in /usr/local/lib/python3.7/dist-packages (from spacy>=2.2.2->en_core_web_sm==2.2.5) (7.3.1)\n",
            "Requirement already satisfied: typing-extensions>=3.6.4 in /usr/local/lib/python3.7/dist-packages (from catalogue<1.1.0,>=0.0.7->spacy>=2.2.2->en_core_web_sm==2.2.5) (4.1.1)\n",
            "Requirement already satisfied: zipp>=0.5 in /usr/local/lib/python3.7/dist-packages (from catalogue<1.1.0,>=0.0.7->spacy>=2.2.2->en_core_web_sm==2.2.5) (3.10.0)\n",
            "Requirement already satisfied: chardet<4,>=3.0.2 in /usr/local/lib/python3.7/dist-packages (from requests<3.0.0,>=2.13.0->spacy>=2.2.2->en_core_web_sm==2.2.5) (3.0.4)\n",
            "Requirement already satisfied: certifi>=2017.4.17 in /usr/local/lib/python3.7/dist-packages (from requests<3.0.0,>=2.13.0->spacy>=2.2.2->en_core_web_sm==2.2.5) (2022.9.24)\n",
            "Requirement already satisfied: idna<3,>=2.5 in /usr/local/lib/python3.7/dist-packages (from requests<3.0.0,>=2.13.0->spacy>=2.2.2->en_core_web_sm==2.2.5) (2.10)\n",
            "Requirement already satisfied: urllib3!=1.25.0,!=1.25.1,<1.26,>=1.21.1 in /usr/local/lib/python3.7/dist-packages (from requests<3.0.0,>=2.13.0->spacy>=2.2.2->en_core_web_sm==2.2.5) (1.24.3)\n",
            "Requirement already satisfied: tqdm<5.0.0,>=4.10.0 in /usr/local/lib/python3.7/dist-packages (from thinc<7.4.0,>=7.3.0->spacy>=2.2.2->en_core_web_sm==2.2.5) (4.64.1)\n",
            "\u001b[38;5;2m✔ Download and installation successful\u001b[0m\n",
            "You can now load the model via spacy.load('en_core_web_sm')\n",
            "Looking in indexes: https://pypi.org/simple, https://us-python.pkg.dev/colab-wheels/public/simple/\n",
            "Requirement already satisfied: beautifulsoup4==4.9.1 in /usr/local/lib/python3.7/dist-packages (4.9.1)\n",
            "Requirement already satisfied: soupsieve>1.2 in /usr/local/lib/python3.7/dist-packages (from beautifulsoup4==4.9.1) (2.3.2.post1)\n",
            "Looking in indexes: https://pypi.org/simple, https://us-python.pkg.dev/colab-wheels/public/simple/\n",
            "Requirement already satisfied: textblob==0.15.3 in /usr/local/lib/python3.7/dist-packages (0.15.3)\n",
            "Requirement already satisfied: nltk>=3.1 in /usr/local/lib/python3.7/dist-packages (from textblob==0.15.3) (3.7)\n",
            "Requirement already satisfied: joblib in /usr/local/lib/python3.7/dist-packages (from nltk>=3.1->textblob==0.15.3) (1.2.0)\n",
            "Requirement already satisfied: regex>=2021.8.3 in /usr/local/lib/python3.7/dist-packages (from nltk>=3.1->textblob==0.15.3) (2022.6.2)\n",
            "Requirement already satisfied: click in /usr/local/lib/python3.7/dist-packages (from nltk>=3.1->textblob==0.15.3) (7.1.2)\n",
            "Requirement already satisfied: tqdm in /usr/local/lib/python3.7/dist-packages (from nltk>=3.1->textblob==0.15.3) (4.64.1)\n",
            "Looking in indexes: https://pypi.org/simple, https://us-python.pkg.dev/colab-wheels/public/simple/\n",
            "Collecting git+https://github.com/laxmimerit/preprocess_kgptalkie.git\n",
            "  Cloning https://github.com/laxmimerit/preprocess_kgptalkie.git to /tmp/pip-req-build-4_aew7cw\n",
            "  Running command git clone -q https://github.com/laxmimerit/preprocess_kgptalkie.git /tmp/pip-req-build-4_aew7cw\n",
            "Building wheels for collected packages: preprocess-kgptalkie\n",
            "  Building wheel for preprocess-kgptalkie (setup.py) ... \u001b[?25l\u001b[?25hdone\n",
            "  Created wheel for preprocess-kgptalkie: filename=preprocess_kgptalkie-0.1.3-py3-none-any.whl size=11755 sha256=d97fea7c303176d86943c9eb58ebb03b16df33fb6f13424fc46e734de3e23f5d\n",
            "  Stored in directory: /tmp/pip-ephem-wheel-cache-1ikwpxfo/wheels/0d/b3/29/bfe3deffda68980088d17b81331be6667e837ffb4a071bae82\n",
            "Successfully built preprocess-kgptalkie\n",
            "Installing collected packages: preprocess-kgptalkie\n",
            "  Attempting uninstall: preprocess-kgptalkie\n",
            "    Found existing installation: preprocess-kgptalkie 0.1.3\n",
            "    Uninstalling preprocess-kgptalkie-0.1.3:\n",
            "      Successfully uninstalled preprocess-kgptalkie-0.1.3\n",
            "Successfully installed preprocess-kgptalkie-0.1.3\n"
          ]
        },
        {
          "data": {
            "application/vnd.colab-display-data+json": {
              "pip_warning": {
                "packages": [
                  "preprocess_kgptalkie"
                ]
              }
            }
          },
          "metadata": {},
          "output_type": "display_data"
        }
      ],
      "source": [
        "!pip install spacy==2.2.3\n",
        "!python -m spacy download en_core_web_sm\n",
        "!pip install beautifulsoup4==4.9.1\n",
        "!pip install textblob==0.15.3\n",
        "!pip install git+https://github.com/laxmimerit/preprocess_kgptalkie.git --upgrade --force-reinstall"
      ]
    },
    {
      "cell_type": "code",
      "execution_count": null,
      "metadata": {
        "colab": {
          "background_save": true
        },
        "id": "yw7Iy6OXBipg"
      },
      "outputs": [],
      "source": [
        "import preprocess_kgptalkie as ps"
      ]
    },
    {
      "cell_type": "code",
      "execution_count": null,
      "metadata": {
        "colab": {
          "background_save": true
        },
        "id": "5ot-GnOaDXzp"
      },
      "outputs": [],
      "source": [
        "data['text']=data['text'].apply(lambda x: ps.remove_special_chars(x))"
      ]
    },
    {
      "cell_type": "code",
      "execution_count": null,
      "metadata": {
        "colab": {
          "background_save": true
        },
        "id": "QyE20sFoEzJU",
        "outputId": "276bab54-7b12-4b3e-a30a-2c11b988352d"
      },
      "outputs": [
        {
          "data": {
            "text/html": [
              "\n",
              "  <div id=\"df-7656e55a-729f-4e5d-9228-74798bc37429\">\n",
              "    <div class=\"colab-df-container\">\n",
              "      <div>\n",
              "<style scoped>\n",
              "    .dataframe tbody tr th:only-of-type {\n",
              "        vertical-align: middle;\n",
              "    }\n",
              "\n",
              "    .dataframe tbody tr th {\n",
              "        vertical-align: top;\n",
              "    }\n",
              "\n",
              "    .dataframe thead th {\n",
              "        text-align: right;\n",
              "    }\n",
              "</style>\n",
              "<table border=\"1\" class=\"dataframe\">\n",
              "  <thead>\n",
              "    <tr style=\"text-align: right;\">\n",
              "      <th></th>\n",
              "      <th>text</th>\n",
              "      <th>class</th>\n",
              "    </tr>\n",
              "  </thead>\n",
              "  <tbody>\n",
              "    <tr>\n",
              "      <th>0</th>\n",
              "      <td>as us budget fight looms republicans flip thei...</td>\n",
              "      <td>1</td>\n",
              "    </tr>\n",
              "    <tr>\n",
              "      <th>1</th>\n",
              "      <td>us military to accept transgender recruits on ...</td>\n",
              "      <td>1</td>\n",
              "    </tr>\n",
              "    <tr>\n",
              "      <th>2</th>\n",
              "      <td>senior us republican senator let mr mueller do...</td>\n",
              "      <td>1</td>\n",
              "    </tr>\n",
              "    <tr>\n",
              "      <th>3</th>\n",
              "      <td>fbi russia probe helped by australian diplomat...</td>\n",
              "      <td>1</td>\n",
              "    </tr>\n",
              "    <tr>\n",
              "      <th>4</th>\n",
              "      <td>trump wants postal service to charge much more...</td>\n",
              "      <td>1</td>\n",
              "    </tr>\n",
              "  </tbody>\n",
              "</table>\n",
              "</div>\n",
              "      <button class=\"colab-df-convert\" onclick=\"convertToInteractive('df-7656e55a-729f-4e5d-9228-74798bc37429')\"\n",
              "              title=\"Convert this dataframe to an interactive table.\"\n",
              "              style=\"display:none;\">\n",
              "        \n",
              "  <svg xmlns=\"http://www.w3.org/2000/svg\" height=\"24px\"viewBox=\"0 0 24 24\"\n",
              "       width=\"24px\">\n",
              "    <path d=\"M0 0h24v24H0V0z\" fill=\"none\"/>\n",
              "    <path d=\"M18.56 5.44l.94 2.06.94-2.06 2.06-.94-2.06-.94-.94-2.06-.94 2.06-2.06.94zm-11 1L8.5 8.5l.94-2.06 2.06-.94-2.06-.94L8.5 2.5l-.94 2.06-2.06.94zm10 10l.94 2.06.94-2.06 2.06-.94-2.06-.94-.94-2.06-.94 2.06-2.06.94z\"/><path d=\"M17.41 7.96l-1.37-1.37c-.4-.4-.92-.59-1.43-.59-.52 0-1.04.2-1.43.59L10.3 9.45l-7.72 7.72c-.78.78-.78 2.05 0 2.83L4 21.41c.39.39.9.59 1.41.59.51 0 1.02-.2 1.41-.59l7.78-7.78 2.81-2.81c.8-.78.8-2.07 0-2.86zM5.41 20L4 18.59l7.72-7.72 1.47 1.35L5.41 20z\"/>\n",
              "  </svg>\n",
              "      </button>\n",
              "      \n",
              "  <style>\n",
              "    .colab-df-container {\n",
              "      display:flex;\n",
              "      flex-wrap:wrap;\n",
              "      gap: 12px;\n",
              "    }\n",
              "\n",
              "    .colab-df-convert {\n",
              "      background-color: #E8F0FE;\n",
              "      border: none;\n",
              "      border-radius: 50%;\n",
              "      cursor: pointer;\n",
              "      display: none;\n",
              "      fill: #1967D2;\n",
              "      height: 32px;\n",
              "      padding: 0 0 0 0;\n",
              "      width: 32px;\n",
              "    }\n",
              "\n",
              "    .colab-df-convert:hover {\n",
              "      background-color: #E2EBFA;\n",
              "      box-shadow: 0px 1px 2px rgba(60, 64, 67, 0.3), 0px 1px 3px 1px rgba(60, 64, 67, 0.15);\n",
              "      fill: #174EA6;\n",
              "    }\n",
              "\n",
              "    [theme=dark] .colab-df-convert {\n",
              "      background-color: #3B4455;\n",
              "      fill: #D2E3FC;\n",
              "    }\n",
              "\n",
              "    [theme=dark] .colab-df-convert:hover {\n",
              "      background-color: #434B5C;\n",
              "      box-shadow: 0px 1px 3px 1px rgba(0, 0, 0, 0.15);\n",
              "      filter: drop-shadow(0px 1px 2px rgba(0, 0, 0, 0.3));\n",
              "      fill: #FFFFFF;\n",
              "    }\n",
              "  </style>\n",
              "\n",
              "      <script>\n",
              "        const buttonEl =\n",
              "          document.querySelector('#df-7656e55a-729f-4e5d-9228-74798bc37429 button.colab-df-convert');\n",
              "        buttonEl.style.display =\n",
              "          google.colab.kernel.accessAllowed ? 'block' : 'none';\n",
              "\n",
              "        async function convertToInteractive(key) {\n",
              "          const element = document.querySelector('#df-7656e55a-729f-4e5d-9228-74798bc37429');\n",
              "          const dataTable =\n",
              "            await google.colab.kernel.invokeFunction('convertToInteractive',\n",
              "                                                     [key], {});\n",
              "          if (!dataTable) return;\n",
              "\n",
              "          const docLinkHtml = 'Like what you see? Visit the ' +\n",
              "            '<a target=\"_blank\" href=https://colab.research.google.com/notebooks/data_table.ipynb>data table notebook</a>'\n",
              "            + ' to learn more about interactive tables.';\n",
              "          element.innerHTML = '';\n",
              "          dataTable['output_type'] = 'display_data';\n",
              "          await google.colab.output.renderOutput(dataTable, element);\n",
              "          const docLink = document.createElement('div');\n",
              "          docLink.innerHTML = docLinkHtml;\n",
              "          element.appendChild(docLink);\n",
              "        }\n",
              "      </script>\n",
              "    </div>\n",
              "  </div>\n",
              "  "
            ],
            "text/plain": [
              "                                                text  class\n",
              "0  as us budget fight looms republicans flip thei...      1\n",
              "1  us military to accept transgender recruits on ...      1\n",
              "2  senior us republican senator let mr mueller do...      1\n",
              "3  fbi russia probe helped by australian diplomat...      1\n",
              "4  trump wants postal service to charge much more...      1"
            ]
          },
          "execution_count": 102,
          "metadata": {},
          "output_type": "execute_result"
        }
      ],
      "source": [
        "data.head()"
      ]
    },
    {
      "cell_type": "markdown",
      "metadata": {
        "id": "8PcBrK6iFFUd"
      },
      "source": [
        "**Vectorization**"
      ]
    },
    {
      "cell_type": "code",
      "execution_count": null,
      "metadata": {
        "colab": {
          "background_save": true
        },
        "id": "XQVAWzG6FKcI"
      },
      "outputs": [],
      "source": [
        "import gensim"
      ]
    },
    {
      "cell_type": "code",
      "execution_count": null,
      "metadata": {
        "colab": {
          "background_save": true
        },
        "id": "nUPr6mOBBjdR"
      },
      "outputs": [],
      "source": [
        "y=data['class'].values"
      ]
    },
    {
      "cell_type": "code",
      "execution_count": null,
      "metadata": {
        "colab": {
          "background_save": true
        },
        "id": "qH8xwlJOBvib"
      },
      "outputs": [],
      "source": [
        "X=[d.split() for d in data['text'].tolist()]"
      ]
    },
    {
      "cell_type": "code",
      "execution_count": null,
      "metadata": {
        "colab": {
          "background_save": true
        },
        "id": "GqJIWHSVB5A3",
        "outputId": "35687bbb-d8b8-48cb-e742-3ab9774064b2"
      },
      "outputs": [
        {
          "name": "stdout",
          "output_type": "stream",
          "text": [
            "['as', 'us', 'budget', 'fight', 'looms', 'republicans', 'flip', 'their', 'fiscal', 'script', 'the', 'head', 'of', 'a', 'conservative', 'republican', 'faction', 'in', 'the', 'us', 'congress', 'who', 'voted', 'this', 'month', 'for', 'a', 'huge', 'expansion', 'of', 'the', 'national', 'debt', 'to', 'pay', 'for', 'tax', 'cuts', 'called', 'himself', 'a', 'fiscal', 'conservative', 'on', 'sunday', 'and', 'urged', 'budget', 'restraint', 'in', '2018', 'in', 'keeping', 'with', 'a', 'sharp', 'pivot', 'under', 'way', 'among', 'republicans', 'us', 'representative', 'mark', 'meadows', 'speaking', 'on', 'cbs', 'face', 'the', 'nation', 'drew', 'a', 'hard', 'line', 'on', 'federal', 'spending', 'which', 'lawmakers', 'are', 'bracing', 'to', 'do', 'battle', 'over', 'in', 'january', 'when', 'they', 'return', 'from', 'the', 'holidays', 'on', 'wednesday', 'lawmakers', 'will', 'begin', 'trying', 'to', 'pass', 'a', 'federal', 'budget', 'in', 'a', 'fight', 'likely', 'to', 'be', 'linked', 'to', 'other', 'issues', 'such', 'as', 'immigration', 'policy', 'even', 'as', 'the', 'november', 'congressional', 'election', 'campaigns', 'approach', 'in', 'which', 'republicans', 'will', 'seek', 'to', 'keep', 'control', 'of', 'congress', 'president', 'donald', 'trump', 'and', 'his', 'republicans', 'want', 'a', 'big', 'budget', 'increase', 'in', 'military', 'spending', 'while', 'democrats', 'also', 'want', 'proportional', 'increases', 'for', 'nondefense', 'discretionary', 'spending', 'on', 'programs', 'that', 'support', 'education', 'scientific', 'research', 'infrastructure', 'public', 'health', 'and', 'environmental', 'protection', 'the', 'trump', 'administration', 'has', 'already', 'been', 'willing', 'to', 'say', 'were', 'going', 'to', 'increase', 'nondefense', 'discretionary', 'spending', 'by', 'about', '7', 'percent', 'meadows', 'chairman', 'of', 'the', 'small', 'but', 'influential', 'house', 'freedom', 'caucus', 'said', 'on', 'the', 'program', 'now', 'democrats', 'are', 'saying', 'thats', 'not', 'enough', 'we', 'need', 'to', 'give', 'the', 'government', 'a', 'pay', 'raise', 'of', '10', 'to', '11', 'percent', 'for', 'a', 'fiscal', 'conservative', 'i', 'dont', 'see', 'where', 'the', 'rationale', 'is', 'eventually', 'you', 'run', 'out', 'of', 'other', 'peoples', 'money', 'he', 'said', 'meadows', 'was', 'among', 'republicans', 'who', 'voted', 'in', 'late', 'december', 'for', 'their', 'partys', 'debtfinanced', 'tax', 'overhaul', 'which', 'is', 'expected', 'to', 'balloon', 'the', 'federal', 'budget', 'deficit', 'and', 'add', 'about', '15', 'trillion', 'over', '10', 'years', 'to', 'the', '20', 'trillion', 'national', 'debt', 'its', 'interesting', 'to', 'hear', 'mark', 'talk', 'about', 'fiscal', 'responsibility', 'democratic', 'us', 'representative', 'joseph', 'crowley', 'said', 'on', 'cbs', 'crowley', 'said', 'the', 'republican', 'tax', 'bill', 'would', 'require', 'the', 'united', 'states', 'to', 'borrow', '15', 'trillion', 'to', 'be', 'paid', 'off', 'by', 'future', 'generations', 'to', 'finance', 'tax', 'cuts', 'for', 'corporations', 'and', 'the', 'rich', 'this', 'is', 'one', 'of', 'the', 'least', 'fiscally', 'responsible', 'bills', 'weve', 'ever', 'seen', 'passed', 'in', 'the', 'history', 'of', 'the', 'house', 'of', 'representatives', 'i', 'think', 'were', 'going', 'to', 'be', 'paying', 'for', 'this', 'for', 'many', 'many', 'years', 'to', 'come', 'crowley', 'said', 'republicans', 'insist', 'the', 'tax', 'package', 'the', 'biggest', 'us', 'tax', 'overhaul', 'in', 'more', 'than', '30', 'years', 'will', 'boost', 'the', 'economy', 'and', 'job', 'growth', 'house', 'speaker', 'paul', 'ryan', 'who', 'also', 'supported', 'the', 'tax', 'bill', 'recently', 'went', 'further', 'than', 'meadows', 'making', 'clear', 'in', 'a', 'radio', 'interview', 'that', 'welfare', 'or', 'entitlement', 'reform', 'as', 'the', 'party', 'often', 'calls', 'it', 'would', 'be', 'a', 'top', 'republican', 'priority', 'in', '2018', 'in', 'republican', 'parlance', 'entitlement', 'programs', 'mean', 'food', 'stamps', 'housing', 'assistance', 'medicare', 'and', 'medicaid', 'health', 'insurance', 'for', 'the', 'elderly', 'poor', 'and', 'disabled', 'as', 'well', 'as', 'other', 'programs', 'created', 'by', 'washington', 'to', 'assist', 'the', 'needy', 'democrats', 'seized', 'on', 'ryans', 'early', 'december', 'remarks', 'saying', 'they', 'showed', 'republicans', 'would', 'try', 'to', 'pay', 'for', 'their', 'tax', 'overhaul', 'by', 'seeking', 'spending', 'cuts', 'for', 'social', 'programs', 'but', 'the', 'goals', 'of', 'house', 'republicans', 'may', 'have', 'to', 'take', 'a', 'back', 'seat', 'to', 'the', 'senate', 'where', 'the', 'votes', 'of', 'some', 'democrats', 'will', 'be', 'needed', 'to', 'approve', 'a', 'budget', 'and', 'prevent', 'a', 'government', 'shutdown', 'democrats', 'will', 'use', 'their', 'leverage', 'in', 'the', 'senate', 'which', 'republicans', 'narrowly', 'control', 'to', 'defend', 'both', 'discretionary', 'nondefense', 'programs', 'and', 'social', 'spending', 'while', 'tackling', 'the', 'issue', 'of', 'the', 'dreamers', 'people', 'brought', 'illegally', 'to', 'the', 'country', 'as', 'children', 'trump', 'in', 'september', 'put', 'a', 'march', '2018', 'expiration', 'date', 'on', 'the', 'deferred', 'action', 'for', 'childhood', 'arrivals', 'or', 'daca', 'program', 'which', 'protects', 'the', 'young', 'immigrants', 'from', 'deportation', 'and', 'provides', 'them', 'with', 'work', 'permits', 'the', 'president', 'has', 'said', 'in', 'recent', 'twitter', 'messages', 'he', 'wants', 'funding', 'for', 'his', 'proposed', 'mexican', 'border', 'wall', 'and', 'other', 'immigration', 'law', 'changes', 'in', 'exchange', 'for', 'agreeing', 'to', 'help', 'the', 'dreamers', 'representative', 'debbie', 'dingell', 'told', 'cbs', 'she', 'did', 'not', 'favor', 'linking', 'that', 'issue', 'to', 'other', 'policy', 'objectives', 'such', 'as', 'wall', 'funding', 'we', 'need', 'to', 'do', 'daca', 'clean', 'she', 'said', 'on', 'wednesday', 'trump', 'aides', 'will', 'meet', 'with', 'congressional', 'leaders', 'to', 'discuss', 'those', 'issues', 'that', 'will', 'be', 'followed', 'by', 'a', 'weekend', 'of', 'strategy', 'sessions', 'for', 'trump', 'and', 'republican', 'leaders', 'on', 'jan', '6', 'and', '7', 'the', 'white', 'house', 'said', 'trump', 'was', 'also', 'scheduled', 'to', 'meet', 'on', 'sunday', 'with', 'florida', 'republican', 'governor', 'rick', 'scott', 'who', 'wants', 'more', 'emergency', 'aid', 'the', 'house', 'has', 'passed', 'an', '81', 'billion', 'aid', 'package', 'after', 'hurricanes', 'in', 'florida', 'texas', 'and', 'puerto', 'rico', 'and', 'wildfires', 'in', 'california', 'the', 'package', 'far', 'exceeded', 'the', '44', 'billion', 'requested', 'by', 'the', 'trump', 'administration', 'the', 'senate', 'has', 'not', 'yet', 'voted', 'on', 'the', 'aid']\n"
          ]
        }
      ],
      "source": [
        "print(X[0])"
      ]
    },
    {
      "cell_type": "code",
      "execution_count": null,
      "metadata": {
        "colab": {
          "background_save": true
        },
        "id": "M4qKu5BcEHPs"
      },
      "outputs": [],
      "source": [
        "DIM = 100\n",
        "w2v_model= gensim.models.Word2Vec(sentences= X, size= DIM, window= 10, min_count=1)"
      ]
    },
    {
      "cell_type": "code",
      "execution_count": null,
      "metadata": {
        "colab": {
          "background_save": true
        },
        "id": "BkQw5dxdF7_D",
        "outputId": "424a8b21-2973-4e45-860e-d7666a8cfc4b"
      },
      "outputs": [
        {
          "data": {
            "text/plain": [
              "231872"
            ]
          },
          "execution_count": 108,
          "metadata": {},
          "output_type": "execute_result"
        }
      ],
      "source": [
        "len(w2v_model.wv.vocab)"
      ]
    },
    {
      "cell_type": "code",
      "execution_count": null,
      "metadata": {
        "colab": {
          "background_save": true
        },
        "id": "4Fici4-CHyii",
        "outputId": "03a567fa-8d97-450e-a290-28c693d35c10"
      },
      "outputs": [
        {
          "data": {
            "text/plain": [
              "[('trumps', 0.7379102110862732),\n",
              " ('trumpthe', 0.5676436424255371),\n",
              " ('he', 0.555371880531311),\n",
              " ('trumptrump', 0.5400830507278442),\n",
              " ('him', 0.5373489856719971),\n",
              " ('presidentelect', 0.5351425409317017),\n",
              " ('rumsfeld', 0.5198230147361755),\n",
              " ('trumphere', 0.5029749870300293),\n",
              " ('proportionsonce', 0.49381139874458313),\n",
              " ('businessmanturnedpresidential', 0.4931591749191284)]"
            ]
          },
          "execution_count": 109,
          "metadata": {},
          "output_type": "execute_result"
        }
      ],
      "source": [
        "w2v_model.wv.most_similar('trump')"
      ]
    },
    {
      "cell_type": "code",
      "execution_count": null,
      "metadata": {
        "colab": {
          "background_save": true
        },
        "id": "GNS7c86RIEIq"
      },
      "outputs": [],
      "source": [
        "tokenizer= Tokenizer()\n",
        "tokenizer.fit_on_texts(X)#The fit_on_texts method is a part of Keras tokenizer class which is used to update the internal vocabulary for the texts list. We need to call be before using other methods of texts_to_sequences or texts_to_matrix."
      ]
    },
    {
      "cell_type": "code",
      "execution_count": null,
      "metadata": {
        "colab": {
          "background_save": true
        },
        "id": "pnYSmHIxJ3dV"
      },
      "outputs": [],
      "source": [
        "X = tokenizer.texts_to_sequences(X)"
      ]
    },
    {
      "cell_type": "code",
      "execution_count": null,
      "metadata": {
        "colab": {
          "background_save": true
        },
        "id": "vlyCZRl9K8LV",
        "outputId": "fefe8367-d6fa-47d6-f277-f9440b031d58"
      },
      "outputs": [
        {
          "data": {
            "text/plain": [
              "{'the': 1,\n",
              " 'to': 2,\n",
              " 'of': 3,\n",
              " 'a': 4,\n",
              " 'and': 5,\n",
              " 'in': 6,\n",
              " 'that': 7,\n",
              " 'on': 8,\n",
              " 'for': 9,\n",
              " 's': 10,\n",
              " 'is': 11,\n",
              " 'he': 12,\n",
              " 'said': 13,\n",
              " 'trump': 14,\n",
              " 'it': 15,\n",
              " 'with': 16,\n",
              " 'was': 17,\n",
              " 'as': 18,\n",
              " 'his': 19,\n",
              " 'by': 20,\n",
              " 'has': 21,\n",
              " 'be': 22,\n",
              " 'have': 23,\n",
              " 'not': 24,\n",
              " 'from': 25,\n",
              " 'this': 26,\n",
              " 'at': 27,\n",
              " 'are': 28,\n",
              " 'who': 29,\n",
              " 'us': 30,\n",
              " 'an': 31,\n",
              " 'they': 32,\n",
              " 'i': 33,\n",
              " 'but': 34,\n",
              " 'we': 35,\n",
              " 'would': 36,\n",
              " 'president': 37,\n",
              " 'about': 38,\n",
              " 'will': 39,\n",
              " 'their': 40,\n",
              " 'had': 41,\n",
              " 'you': 42,\n",
              " 't': 43,\n",
              " 'been': 44,\n",
              " 'were': 45,\n",
              " 'people': 46,\n",
              " 'more': 47,\n",
              " 'or': 48,\n",
              " 'after': 49,\n",
              " 'which': 50,\n",
              " 'she': 51,\n",
              " 'her': 52,\n",
              " 'one': 53,\n",
              " 'if': 54,\n",
              " 'its': 55,\n",
              " 'out': 56,\n",
              " 'all': 57,\n",
              " 'what': 58,\n",
              " 'state': 59,\n",
              " 'when': 60,\n",
              " 'new': 61,\n",
              " 'also': 62,\n",
              " 'up': 63,\n",
              " 'there': 64,\n",
              " 'over': 65,\n",
              " 'no': 66,\n",
              " 'house': 67,\n",
              " 'donald': 68,\n",
              " 'our': 69,\n",
              " 'states': 70,\n",
              " 'clinton': 71,\n",
              " 'obama': 72,\n",
              " 'government': 73,\n",
              " 'can': 74,\n",
              " 'just': 75,\n",
              " 'him': 76,\n",
              " 'so': 77,\n",
              " 'than': 78,\n",
              " 'republican': 79,\n",
              " 'other': 80,\n",
              " 'some': 81,\n",
              " 'could': 82,\n",
              " 'white': 83,\n",
              " 'into': 84,\n",
              " 'told': 85,\n",
              " 'united': 86,\n",
              " 'against': 87,\n",
              " 'like': 88,\n",
              " 'do': 89,\n",
              " 'because': 90,\n",
              " 'campaign': 91,\n",
              " 'them': 92,\n",
              " 'news': 93,\n",
              " 'any': 94,\n",
              " 'last': 95,\n",
              " 'election': 96,\n",
              " 'two': 97,\n",
              " 'time': 98,\n",
              " 'now': 99,\n",
              " 'how': 100,\n",
              " 'party': 101,\n",
              " 'first': 102,\n",
              " 'only': 103,\n",
              " 'former': 104,\n",
              " 'hillary': 105,\n",
              " 'should': 106,\n",
              " 'even': 107,\n",
              " 'being': 108,\n",
              " 'year': 109,\n",
              " 'while': 110,\n",
              " 'country': 111,\n",
              " 'video': 112,\n",
              " 'did': 113,\n",
              " 'before': 114,\n",
              " 'years': 115,\n",
              " 'during': 116,\n",
              " 'many': 117,\n",
              " 'media': 118,\n",
              " 'security': 119,\n",
              " 'may': 120,\n",
              " 'most': 121,\n",
              " 'say': 122,\n",
              " 'political': 123,\n",
              " 'national': 124,\n",
              " 'police': 125,\n",
              " 'get': 126,\n",
              " 'law': 127,\n",
              " 'made': 128,\n",
              " 'court': 129,\n",
              " 'make': 130,\n",
              " 'those': 131,\n",
              " 'american': 132,\n",
              " 'republicans': 133,\n",
              " 'since': 134,\n",
              " 'going': 135,\n",
              " 'where': 136,\n",
              " 'percent': 137,\n",
              " 'trumps': 138,\n",
              " 'bill': 139,\n",
              " 'presidential': 140,\n",
              " 'under': 141,\n",
              " 'very': 142,\n",
              " 'back': 143,\n",
              " 'these': 144,\n",
              " 'says': 145,\n",
              " 'russia': 146,\n",
              " 'north': 147,\n",
              " 'senate': 148,\n",
              " 'support': 149,\n",
              " 'democratic': 150,\n",
              " 'administration': 151,\n",
              " 'vote': 152,\n",
              " 'america': 153,\n",
              " 'down': 154,\n",
              " 'week': 155,\n",
              " 'between': 156,\n",
              " 'including': 157,\n",
              " 'group': 158,\n",
              " 'then': 159,\n",
              " 'know': 160,\n",
              " 'officials': 161,\n",
              " 'think': 162,\n",
              " 'according': 163,\n",
              " 'way': 164,\n",
              " 'take': 165,\n",
              " 'public': 166,\n",
              " 'office': 167,\n",
              " 'federal': 168,\n",
              " 'military': 169,\n",
              " 'such': 170,\n",
              " 'my': 171,\n",
              " 'foreign': 172,\n",
              " 'called': 173,\n",
              " 're': 174,\n",
              " 'via': 175,\n",
              " 'right': 176,\n",
              " 'million': 177,\n",
              " 'world': 178,\n",
              " 'statement': 179,\n",
              " 'department': 180,\n",
              " 'washington': 181,\n",
              " 'want': 182,\n",
              " 'saying': 183,\n",
              " 'tax': 184,\n",
              " 'don': 185,\n",
              " 'well': 186,\n",
              " 'see': 187,\n",
              " 'here': 188,\n",
              " 'congress': 189,\n",
              " 'still': 190,\n",
              " 'russian': 191,\n",
              " 'tuesday': 192,\n",
              " 'both': 193,\n",
              " 'your': 194,\n",
              " 'much': 195,\n",
              " 'democrats': 196,\n",
              " 'image': 197,\n",
              " 'another': 198,\n",
              " 'minister': 199,\n",
              " 'day': 200,\n",
              " 'women': 201,\n",
              " 'part': 202,\n",
              " 'wednesday': 203,\n",
              " 'go': 204,\n",
              " 'work': 205,\n",
              " 'through': 206,\n",
              " 'china': 207,\n",
              " 'policy': 208,\n",
              " 'friday': 209,\n",
              " 'thursday': 210,\n",
              " 'asked': 211,\n",
              " 'war': 212,\n",
              " 'own': 213,\n",
              " 'black': 214,\n",
              " 'deal': 215,\n",
              " 'rights': 216,\n",
              " 'off': 217,\n",
              " 'city': 218,\n",
              " 'official': 219,\n",
              " 'secretary': 220,\n",
              " 'why': 221,\n",
              " 'monday': 222,\n",
              " '2016': 223,\n",
              " 'americans': 224,\n",
              " 'committee': 225,\n",
              " 'next': 226,\n",
              " 'me': 227,\n",
              " 'help': 228,\n",
              " 'general': 229,\n",
              " 'need': 230,\n",
              " 'korea': 231,\n",
              " 'three': 232,\n",
              " 'whether': 233,\n",
              " 'leader': 234,\n",
              " 'case': 235,\n",
              " 'senator': 236,\n",
              " 'never': 237,\n",
              " 'show': 238,\n",
              " 'man': 239,\n",
              " 'around': 240,\n",
              " 'york': 241,\n",
              " 'does': 242,\n",
              " 'order': 243,\n",
              " 'fbi': 244,\n",
              " 'members': 245,\n",
              " 'use': 246,\n",
              " 'candidate': 247,\n",
              " 'report': 248,\n",
              " 'same': 249,\n",
              " 'meeting': 250,\n",
              " 'took': 251,\n",
              " 'good': 252,\n",
              " 'come': 253,\n",
              " 'every': 254,\n",
              " 'iran': 255,\n",
              " 'end': 256,\n",
              " 'left': 257,\n",
              " 'reuters': 258,\n",
              " 'without': 259,\n",
              " 'power': 260,\n",
              " 'used': 261,\n",
              " 'really': 262,\n",
              " 'top': 263,\n",
              " 'twitter': 264,\n",
              " 'attack': 265,\n",
              " 'put': 266,\n",
              " 'investigation': 267,\n",
              " 'intelligence': 268,\n",
              " 'times': 269,\n",
              " 'countries': 270,\n",
              " 'justice': 271,\n",
              " 'money': 272,\n",
              " 'nuclear': 273,\n",
              " 'syria': 274,\n",
              " 'change': 275,\n",
              " 'voters': 276,\n",
              " 'plan': 277,\n",
              " 'trade': 278,\n",
              " 'month': 279,\n",
              " 'information': 280,\n",
              " 'leaders': 281,\n",
              " 'south': 282,\n",
              " 'family': 283,\n",
              " 'speech': 284,\n",
              " 'decision': 285,\n",
              " 'business': 286,\n",
              " 'international': 287,\n",
              " 'groups': 288,\n",
              " 'reported': 289,\n",
              " 'fact': 290,\n",
              " 'days': 291,\n",
              " 'interview': 292,\n",
              " 'long': 293,\n",
              " 'already': 294,\n",
              " 'director': 295,\n",
              " 'several': 296,\n",
              " 'story': 297,\n",
              " 'again': 298,\n",
              " 'far': 299,\n",
              " 'too': 300,\n",
              " 'conservative': 301,\n",
              " 'fox': 302,\n",
              " 'chief': 303,\n",
              " 'likely': 304,\n",
              " 'must': 305,\n",
              " 'health': 306,\n",
              " 'call': 307,\n",
              " 'border': 308,\n",
              " 'something': 309,\n",
              " 'john': 310,\n",
              " 'place': 311,\n",
              " 'immigration': 312,\n",
              " 'months': 313,\n",
              " 'clear': 314,\n",
              " 'supporters': 315,\n",
              " 'agency': 316,\n",
              " 'social': 317,\n",
              " 'home': 318,\n",
              " 'islamic': 319,\n",
              " 'among': 320,\n",
              " 'watch': 321,\n",
              " 'sanders': 322,\n",
              " 'move': 323,\n",
              " 'press': 324,\n",
              " 'post': 325,\n",
              " 'believe': 326,\n",
              " 'however': 327,\n",
              " 'barack': 328,\n",
              " 'got': 329,\n",
              " 'program': 330,\n",
              " 'issue': 331,\n",
              " 'billion': 332,\n",
              " 'won': 333,\n",
              " 'act': 334,\n",
              " 'might': 335,\n",
              " 'children': 336,\n",
              " 'major': 337,\n",
              " 'came': 338,\n",
              " 'muslim': 339,\n",
              " 'recent': 340,\n",
              " 'least': 341,\n",
              " 'sunday': 342,\n",
              " 'killed': 343,\n",
              " 'seen': 344,\n",
              " 'found': 345,\n",
              " 'things': 346,\n",
              " 'number': 347,\n",
              " 'great': 348,\n",
              " 'control': 349,\n",
              " 'trying': 350,\n",
              " 've': 351,\n",
              " 'democrat': 352,\n",
              " 'matter': 353,\n",
              " 'today': 354,\n",
              " 'though': 355,\n",
              " 'didn': 356,\n",
              " 'reporters': 357,\n",
              " 'later': 358,\n",
              " 'win': 359,\n",
              " 'defense': 360,\n",
              " 'm': 361,\n",
              " 'attacks': 362,\n",
              " 'yet': 363,\n",
              " 'economic': 364,\n",
              " 'eu': 365,\n",
              " 'march': 366,\n",
              " 'making': 367,\n",
              " 'spokesman': 368,\n",
              " 'working': 369,\n",
              " 'went': 370,\n",
              " 'executive': 371,\n",
              " 'become': 372,\n",
              " 'actually': 373,\n",
              " 'school': 374,\n",
              " 'look': 375,\n",
              " 'cnn': 376,\n",
              " 'keep': 377,\n",
              " 'stop': 378,\n",
              " 'big': 379,\n",
              " 'free': 380,\n",
              " 'give': 381,\n",
              " 'little': 382,\n",
              " 'nation': 383,\n",
              " 'system': 384,\n",
              " 'legal': 385,\n",
              " 'un': 386,\n",
              " 'set': 387,\n",
              " 'past': 388,\n",
              " 'violence': 389,\n",
              " 'cruz': 390,\n",
              " 'until': 391,\n",
              " 'real': 392,\n",
              " 'himself': 393,\n",
              " 'forces': 394,\n",
              " 'senior': 395,\n",
              " 'earlier': 396,\n",
              " 'away': 397,\n",
              " 'doesn': 398,\n",
              " 'let': 399,\n",
              " 'four': 400,\n",
              " 'thing': 401,\n",
              " 'point': 402,\n",
              " 'added': 403,\n",
              " 'governor': 404,\n",
              " 'talks': 405,\n",
              " 'member': 406,\n",
              " 'doing': 407,\n",
              " 'lawmakers': 408,\n",
              " 'nothing': 409,\n",
              " 'january': 410,\n",
              " 'comment': 411,\n",
              " 'illegal': 412,\n",
              " 'sanctions': 413,\n",
              " 'woman': 414,\n",
              " 'ever': 415,\n",
              " 'wall': 416,\n",
              " 'few': 417,\n",
              " 'opposition': 418,\n",
              " 'head': 419,\n",
              " 'european': 420,\n",
              " 'local': 421,\n",
              " 'taking': 422,\n",
              " 'force': 423,\n",
              " 'nations': 424,\n",
              " 'known': 425,\n",
              " 'issues': 426,\n",
              " 'human': 427,\n",
              " 'nominee': 428,\n",
              " 'following': 429,\n",
              " 'july': 430,\n",
              " 'prime': 431,\n",
              " 'companies': 432,\n",
              " 'possible': 433,\n",
              " 'gun': 434,\n",
              " 'held': 435,\n",
              " 'gop': 436,\n",
              " 'attorney': 437,\n",
              " 'care': 438,\n",
              " 'supreme': 439,\n",
              " 'wants': 440,\n",
              " 'action': 441,\n",
              " 'across': 442,\n",
              " '2015': 443,\n",
              " 'judge': 444,\n",
              " 'team': 445,\n",
              " 'released': 446,\n",
              " 'pay': 447,\n",
              " 'person': 448,\n",
              " 'expected': 449,\n",
              " 'union': 450,\n",
              " 'men': 451,\n",
              " 'continue': 452,\n",
              " 'job': 453,\n",
              " 'community': 454,\n",
              " 'better': 455,\n",
              " 'company': 456,\n",
              " 'enough': 457,\n",
              " 'others': 458,\n",
              " 'given': 459,\n",
              " 'high': 460,\n",
              " 'night': 461,\n",
              " 'once': 462,\n",
              " 'legislation': 463,\n",
              " 'evidence': 464,\n",
              " 'ban': 465,\n",
              " 'financial': 466,\n",
              " '10': 467,\n",
              " 'response': 468,\n",
              " 'history': 469,\n",
              " 'reports': 470,\n",
              " 'taken': 471,\n",
              " 'source': 472,\n",
              " 'budget': 473,\n",
              " 'process': 474,\n",
              " 'question': 475,\n",
              " 'face': 476,\n",
              " 'open': 477,\n",
              " 'images': 478,\n",
              " 'close': 479,\n",
              " 'fight': 480,\n",
              " 'done': 481,\n",
              " 'wrote': 482,\n",
              " 'debate': 483,\n",
              " '20': 484,\n",
              " 'special': 485,\n",
              " 'plans': 486,\n",
              " 'important': 487,\n",
              " 'life': 488,\n",
              " 'syrian': 489,\n",
              " 'course': 490,\n",
              " 'june': 491,\n",
              " 'having': 492,\n",
              " 'university': 493,\n",
              " 'refugees': 494,\n",
              " 'anyone': 495,\n",
              " 'lot': 496,\n",
              " 'race': 497,\n",
              " 'run': 498,\n",
              " 'majority': 499,\n",
              " 'private': 500,\n",
              " 'email': 501,\n",
              " 'iraq': 502,\n",
              " 'using': 503,\n",
              " 'second': 504,\n",
              " 'death': 505,\n",
              " 'air': 506,\n",
              " 'crisis': 507,\n",
              " 'putin': 508,\n",
              " 'staff': 509,\n",
              " 'despite': 510,\n",
              " 'conference': 511,\n",
              " 'saturday': 512,\n",
              " 'further': 513,\n",
              " 'comments': 514,\n",
              " 'november': 515,\n",
              " 'anything': 516,\n",
              " 'efforts': 517,\n",
              " 'behind': 518,\n",
              " 'accused': 519,\n",
              " 'along': 520,\n",
              " 'lives': 521,\n",
              " 'ago': 522,\n",
              " 'able': 523,\n",
              " 'ryan': 524,\n",
              " 'mexico': 525,\n",
              " 'best': 526,\n",
              " 'saudi': 527,\n",
              " '1': 528,\n",
              " 'agreement': 529,\n",
              " 'mr': 530,\n",
              " 'role': 531,\n",
              " 'early': 532,\n",
              " 'find': 533,\n",
              " 'full': 534,\n",
              " 'future': 535,\n",
              " 'am': 536,\n",
              " 'less': 537,\n",
              " 'region': 538,\n",
              " 'lead': 539,\n",
              " 'instead': 540,\n",
              " 'letter': 541,\n",
              " 'comes': 542,\n",
              " 'council': 543,\n",
              " 'weeks': 544,\n",
              " 'five': 545,\n",
              " 'jobs': 546,\n",
              " 'current': 547,\n",
              " 'within': 548,\n",
              " 'due': 549,\n",
              " 'someone': 550,\n",
              " 'civil': 551,\n",
              " 'visit': 552,\n",
              " 'facebook': 553,\n",
              " 'calling': 554,\n",
              " 'sure': 555,\n",
              " 'sources': 556,\n",
              " 'comey': 557,\n",
              " 'service': 558,\n",
              " 'hard': 559,\n",
              " 'coalition': 560,\n",
              " 'students': 561,\n",
              " 'getting': 562,\n",
              " 'texas': 563,\n",
              " 'live': 564,\n",
              " 'name': 565,\n",
              " 'britain': 566,\n",
              " 'rules': 567,\n",
              " 'center': 568,\n",
              " 'young': 569,\n",
              " 'congressional': 570,\n",
              " 'votes': 571,\n",
              " 'israel': 572,\n",
              " 'economy': 573,\n",
              " 'coming': 574,\n",
              " 'effort': 575,\n",
              " 'll': 576,\n",
              " 'elections': 577,\n",
              " 'calls': 578,\n",
              " 'muslims': 579,\n",
              " 'candidates': 580,\n",
              " 'emails': 581,\n",
              " 'announced': 582,\n",
              " 'weapons': 583,\n",
              " 'army': 584,\n",
              " 'global': 585,\n",
              " 'paul': 586,\n",
              " 'thousands': 587,\n",
              " 'ties': 588,\n",
              " 'line': 589,\n",
              " 'healthcare': 590,\n",
              " 'citizens': 591,\n",
              " 'event': 592,\n",
              " 'running': 593,\n",
              " 'chairman': 594,\n",
              " 'nearly': 595,\n",
              " 'climate': 596,\n",
              " 'sent': 597,\n",
              " 'talk': 598,\n",
              " '8': 599,\n",
              " 'obamacare': 600,\n",
              " 'racist': 601,\n",
              " 'fake': 602,\n",
              " 'claims': 603,\n",
              " 'street': 604,\n",
              " '2014': 605,\n",
              " 'allow': 606,\n",
              " 'rule': 607,\n",
              " 'daily': 608,\n",
              " 'capital': 609,\n",
              " 'poll': 610,\n",
              " 'position': 611,\n",
              " 'each': 612,\n",
              " 'workers': 613,\n",
              " 'december': 614,\n",
              " 'whose': 615,\n",
              " 'middle': 616,\n",
              " 'ruling': 617,\n",
              " 'led': 618,\n",
              " 'october': 619,\n",
              " 'hold': 620,\n",
              " 'wanted': 621,\n",
              " 'tell': 622,\n",
              " 'needs': 623,\n",
              " 'message': 624,\n",
              " 'latest': 625,\n",
              " 'outside': 626,\n",
              " 'april': 627,\n",
              " 'everyone': 628,\n",
              " 'late': 629,\n",
              " 'threat': 630,\n",
              " 'authorities': 631,\n",
              " 'gave': 632,\n",
              " 'east': 633,\n",
              " 'liberal': 634,\n",
              " 'began': 635,\n",
              " 'turkey': 636,\n",
              " 'problem': 637,\n",
              " 'florida': 638,\n",
              " 'makes': 639,\n",
              " 'bad': 640,\n",
              " 'showed': 641,\n",
              " 'reform': 642,\n",
              " 'politics': 643,\n",
              " 'officers': 644,\n",
              " '15': 645,\n",
              " 'leave': 646,\n",
              " 'rally': 647,\n",
              " 'immigrants': 648,\n",
              " 'bush': 649,\n",
              " 'd': 650,\n",
              " 'september': 651,\n",
              " 'criminal': 652,\n",
              " 'questions': 653,\n",
              " 'voting': 654,\n",
              " 'failed': 655,\n",
              " 'means': 656,\n",
              " 'organization': 657,\n",
              " 'august': 658,\n",
              " 'isn': 659,\n",
              " 'start': 660,\n",
              " 'representatives': 661,\n",
              " 'relations': 662,\n",
              " 'meet': 663,\n",
              " 'immediately': 664,\n",
              " 'reason': 665,\n",
              " 'peace': 666,\n",
              " 'lost': 667,\n",
              " 'list': 668,\n",
              " 'words': 669,\n",
              " 'parliament': 670,\n",
              " 'together': 671,\n",
              " 'cut': 672,\n",
              " 'release': 673,\n",
              " 'access': 674,\n",
              " 'speaking': 675,\n",
              " 'policies': 676,\n",
              " 'services': 677,\n",
              " 'hope': 678,\n",
              " 'stand': 679,\n",
              " 'germany': 680,\n",
              " 'funding': 681,\n",
              " 'february': 682,\n",
              " 'different': 683,\n",
              " 'rather': 684,\n",
              " 'central': 685,\n",
              " 'conservatives': 686,\n",
              " 'agencies': 687,\n",
              " 'george': 688,\n",
              " '2': 689,\n",
              " 'ahead': 690,\n",
              " 'spending': 691,\n",
              " 'based': 692,\n",
              " 'tried': 693,\n",
              " 'allies': 694,\n",
              " 'strong': 695,\n",
              " 'ministry': 696,\n",
              " 'read': 697,\n",
              " 'laws': 698,\n",
              " 'sexual': 699,\n",
              " 'planned': 700,\n",
              " 'almost': 701,\n",
              " 'try': 702,\n",
              " '2017': 703,\n",
              " 'millions': 704,\n",
              " 'cannot': 705,\n",
              " 'thought': 706,\n",
              " 'received': 707,\n",
              " 'oil': 708,\n",
              " 'six': 709,\n",
              " 'recently': 710,\n",
              " 'allowed': 711,\n",
              " 'morning': 712,\n",
              " 'host': 713,\n",
              " '30': 714,\n",
              " 'elected': 715,\n",
              " 'protect': 716,\n",
              " 'idea': 717,\n",
              " 'shows': 718,\n",
              " 'enforcement': 719,\n",
              " 'bring': 720,\n",
              " 'shooting': 721,\n",
              " 'charges': 722,\n",
              " 'decided': 723,\n",
              " 'missile': 724,\n",
              " 'old': 725,\n",
              " 'fire': 726,\n",
              " 'key': 727,\n",
              " 'room': 728,\n",
              " 'europe': 729,\n",
              " 'concerns': 730,\n",
              " 'provide': 731,\n",
              " 'parties': 732,\n",
              " 'chinese': 733,\n",
              " 'entire': 734,\n",
              " 'often': 735,\n",
              " 'talking': 736,\n",
              " 'met': 737,\n",
              " 'always': 738,\n",
              " 'involved': 739,\n",
              " 'near': 740,\n",
              " 'situation': 741,\n",
              " 'hate': 742,\n",
              " 'obamas': 743,\n",
              " 'energy': 744,\n",
              " 'happened': 745,\n",
              " 'officer': 746,\n",
              " 'district': 747,\n",
              " 'kind': 748,\n",
              " '3': 749,\n",
              " 'shot': 750,\n",
              " 'bank': 751,\n",
              " 'allegations': 752,\n",
              " 'denied': 753,\n",
              " 'tweet': 754,\n",
              " 'everything': 755,\n",
              " 'presidency': 756,\n",
              " 'california': 757,\n",
              " 'small': 758,\n",
              " 'movement': 759,\n",
              " 'james': 760,\n",
              " 'looking': 761,\n",
              " 'terrorist': 762,\n",
              " 'vice': 763,\n",
              " 'century': 764,\n",
              " 'travel': 765,\n",
              " 'needed': 766,\n",
              " 'arrested': 767,\n",
              " 'myanmar': 768,\n",
              " 'freedom': 769,\n",
              " 'especially': 770,\n",
              " 'agreed': 771,\n",
              " 'side': 772,\n",
              " 'voted': 773,\n",
              " 'include': 774,\n",
              " 'water': 775,\n",
              " 'return': 776,\n",
              " 'bernie': 777,\n",
              " 'nomination': 778,\n",
              " 'hours': 779,\n",
              " 'large': 780,\n",
              " 'protesters': 781,\n",
              " 'documents': 782,\n",
              " 'area': 783,\n",
              " 'potential': 784,\n",
              " 'industry': 785,\n",
              " 'crime': 786,\n",
              " 'korean': 787,\n",
              " 'data': 788,\n",
              " 'request': 789,\n",
              " 'british': 790,\n",
              " 'west': 791,\n",
              " '12': 792,\n",
              " 'themselves': 793,\n",
              " 'market': 794,\n",
              " 'seems': 795,\n",
              " 'although': 796,\n",
              " 'fired': 797,\n",
              " 'representative': 798,\n",
              " 'personal': 799,\n",
              " 'fighting': 800,\n",
              " 'county': 801,\n",
              " 'hearing': 802,\n",
              " 'claim': 803,\n",
              " 'adviser': 804,\n",
              " 'polls': 805,\n",
              " 'wife': 806,\n",
              " 'hit': 807,\n",
              " 'western': 808,\n",
              " 'cases': 809,\n",
              " '2012': 810,\n",
              " 'adding': 811,\n",
              " 'actions': 812,\n",
              " 'foundation': 813,\n",
              " 'either': 814,\n",
              " 'insurance': 815,\n",
              " 'confirmed': 816,\n",
              " 'worked': 817,\n",
              " 'true': 818,\n",
              " 'interest': 819,\n",
              " 'serious': 820,\n",
              " 'decades': 821,\n",
              " 'pressure': 822,\n",
              " 'wrong': 823,\n",
              " 'forward': 824,\n",
              " 'alleged': 825,\n",
              " 'building': 826,\n",
              " 'step': 827,\n",
              " '11': 828,\n",
              " 'front': 829,\n",
              " 'term': 830,\n",
              " 'realdonaldtrump': 831,\n",
              " 'commission': 832,\n",
              " 'address': 833,\n",
              " '5': 834,\n",
              " 'leading': 835,\n",
              " 'details': 836,\n",
              " 'j': 837,\n",
              " 'spoke': 838,\n",
              " 'claimed': 839,\n",
              " 'tillerson': 840,\n",
              " 'paid': 841,\n",
              " 'biggest': 842,\n",
              " 'probably': 843,\n",
              " 'nov': 844,\n",
              " 'lawyer': 845,\n",
              " 'love': 846,\n",
              " 'passed': 847,\n",
              " 'college': 848,\n",
              " 'continued': 849,\n",
              " 'clearly': 850,\n",
              " 'review': 851,\n",
              " '4': 852,\n",
              " 'feel': 853,\n",
              " 'board': 854,\n",
              " 'truth': 855,\n",
              " 'main': 856,\n",
              " 'families': 857,\n",
              " 'appeared': 858,\n",
              " 'final': 859,\n",
              " 'primary': 860,\n",
              " 'victory': 861,\n",
              " 'ted': 862,\n",
              " 'soon': 863,\n",
              " 'moscow': 864,\n",
              " 'leadership': 865,\n",
              " 'michael': 866,\n",
              " 'son': 867,\n",
              " 'mean': 868,\n",
              " 'protest': 869,\n",
              " 'father': 870,\n",
              " 'mike': 871,\n",
              " 'taxes': 872,\n",
              " 'turn': 873,\n",
              " 'terrorism': 874,\n",
              " 'network': 875,\n",
              " 'dont': 876,\n",
              " 'aid': 877,\n",
              " 'record': 878,\n",
              " 'brought': 879,\n",
              " 'dollars': 880,\n",
              " 'sessions': 881,\n",
              " 'declined': 882,\n",
              " 'cia': 883,\n",
              " 'result': 884,\n",
              " 'deputy': 885,\n",
              " 'wasn': 886,\n",
              " 'simply': 887,\n",
              " 'goes': 888,\n",
              " 'toward': 889,\n",
              " 'points': 890,\n",
              " 'remarks': 891,\n",
              " 'turned': 892,\n",
              " 'issued': 893,\n",
              " 'sign': 894,\n",
              " 'became': 895,\n",
              " 'started': 896,\n",
              " 'independence': 897,\n",
              " 'spent': 898,\n",
              " 'arabia': 899,\n",
              " 'protests': 900,\n",
              " 'pence': 901,\n",
              " 'flynn': 902,\n",
              " 'david': 903,\n",
              " 'posted': 904,\n",
              " 'included': 905,\n",
              " 'mayor': 906,\n",
              " 'agenda': 907,\n",
              " 'signed': 908,\n",
              " 'secret': 909,\n",
              " 'view': 910,\n",
              " 'isis': 911,\n",
              " 'religious': 912,\n",
              " 'influence': 913,\n",
              " 'attempt': 914,\n",
              " '25': 915,\n",
              " 'mccain': 916,\n",
              " 'article': 917,\n",
              " 'push': 918,\n",
              " 'town': 919,\n",
              " 'popular': 920,\n",
              " 'previously': 921,\n",
              " 'mark': 922,\n",
              " 'rubio': 923,\n",
              " 'forced': 924,\n",
              " 'german': 925,\n",
              " 'raised': 926,\n",
              " 'merkel': 927,\n",
              " 'below': 928,\n",
              " 'pass': 929,\n",
              " 'fund': 930,\n",
              " 'relationship': 931,\n",
              " 'guy': 932,\n",
              " 'pretty': 933,\n",
              " 'food': 934,\n",
              " 'child': 935,\n",
              " 'level': 936,\n",
              " '2013': 937,\n",
              " 'giving': 938,\n",
              " 'clintons': 939,\n",
              " 'seeking': 940,\n",
              " 'half': 941,\n",
              " 'al': 942,\n",
              " 'saw': 943,\n",
              " 'militants': 944,\n",
              " 'account': 945,\n",
              " 'website': 946,\n",
              " 'short': 947,\n",
              " 'convention': 948,\n",
              " 'gets': 949,\n",
              " 'speak': 950,\n",
              " 'cost': 951,\n",
              " 'conflict': 952,\n",
              " 'helped': 953,\n",
              " 'debt': 954,\n",
              " 'friends': 955,\n",
              " 'speaker': 956,\n",
              " 'proposed': 957,\n",
              " 'total': 958,\n",
              " 'increase': 959,\n",
              " 'firm': 960,\n",
              " 'hundreds': 961,\n",
              " 'voter': 962,\n",
              " 'ask': 963,\n",
              " 'ambassador': 964,\n",
              " 'reality': 965,\n",
              " 'armed': 966,\n",
              " 'wire': 967,\n",
              " 'described': 968,\n",
              " 'longer': 969,\n",
              " 'repeatedly': 970,\n",
              " 'phone': 971,\n",
              " 'remain': 972,\n",
              " 'created': 973,\n",
              " 'largest': 974,\n",
              " 'regional': 975,\n",
              " 'independent': 976,\n",
              " 'fear': 977,\n",
              " 'areas': 978,\n",
              " 'heard': 979,\n",
              " 'violent': 980,\n",
              " 'constitution': 981,\n",
              " 'discuss': 982,\n",
              " 'tv': 983,\n",
              " 'hand': 984,\n",
              " 'troops': 985,\n",
              " 'changes': 986,\n",
              " 'respond': 987,\n",
              " 'education': 988,\n",
              " 'currently': 989,\n",
              " 'criticized': 990,\n",
              " 'similar': 991,\n",
              " 'funds': 992,\n",
              " 'flag': 993,\n",
              " 'victims': 994,\n",
              " 'brexit': 995,\n",
              " 'build': 996,\n",
              " 'whole': 997,\n",
              " 'crowd': 998,\n",
              " 'senators': 999,\n",
              " 'carolina': 1000,\n",
              " ...}"
            ]
          },
          "execution_count": 112,
          "metadata": {},
          "output_type": "execute_result"
        }
      ],
      "source": [
        "tokenizer.word_index"
      ]
    },
    {
      "cell_type": "code",
      "execution_count": null,
      "metadata": {
        "colab": {
          "background_save": true
        },
        "id": "K3FGmEJFMFWe",
        "outputId": "8b95dacf-4efa-4e9f-c98c-3cc6c11b18e7"
      },
      "outputs": [
        {
          "data": {
            "image/png": "[encoded data removed]",
            "text/plain": [
              "<Figure size 432x288 with 1 Axes>"
            ]
          },
          "metadata": {},
          "output_type": "display_data"
        }
      ],
      "source": [
        "plt.hist([len(x) for x in X], bins = 700)\n",
        "plt.show()"
      ]
    },
    {
      "cell_type": "code",
      "execution_count": null,
      "metadata": {
        "colab": {
          "background_save": true
        },
        "id": "Fej2_NPTMvIg",
        "outputId": "07c0689e-387c-4fe8-f2ab-a26bd4f8d5cb"
      },
      "outputs": [
        {
          "data": {
            "text/plain": [
              "1581"
            ]
          },
          "execution_count": 114,
          "metadata": {},
          "output_type": "execute_result"
        }
      ],
      "source": [
        "nos=np.array([len(x) for x in X])\n",
        "len(nos[nos>1000])"
      ]
    },
    {
      "cell_type": "code",
      "execution_count": null,
      "metadata": {
        "colab": {
          "background_save": true
        },
        "id": "O9Zdo0hNNqjn"
      },
      "outputs": [],
      "source": [
        "maxlen=1000\n",
        "X=pad_sequences(X,maxlen=maxlen)"
      ]
    },
    {
      "cell_type": "code",
      "execution_count": null,
      "metadata": {
        "colab": {
          "background_save": true
        },
        "id": "zYKj0WD8OfPD",
        "outputId": "b1039aa2-7b5a-42ad-8f3d-a912b43a6958"
      },
      "outputs": [
        {
          "data": {
            "text/plain": [
              "1000"
            ]
          },
          "execution_count": 116,
          "metadata": {},
          "output_type": "execute_result"
        }
      ],
      "source": [
        "len(X[0])"
      ]
    },
    {
      "cell_type": "code",
      "execution_count": null,
      "metadata": {
        "colab": {
          "background_save": true
        },
        "id": "NRF9aPmfOzg6"
      },
      "outputs": [],
      "source": [
        "vocab_size = len(tokenizer.word_index) + 1\n",
        "vocab = tokenizer.word_index"
      ]
    },
    {
      "cell_type": "code",
      "execution_count": null,
      "metadata": {
        "colab": {
          "background_save": true
        },
        "id": "ccjp298ZO8gc"
      },
      "outputs": [],
      "source": [
        "def get_weight_matrix(model):\n",
        "  weight_matrix = np.zeros((vocab_size, DIM))\n",
        "\n",
        "  for word, i in vocab.items():\n",
        "    weight_matrix[i]=model.wv[word]\n",
        "  return weight_matrix\n"
      ]
    },
    {
      "cell_type": "code",
      "execution_count": null,
      "metadata": {
        "colab": {
          "background_save": true
        },
        "id": "wylDDPu6Q_Mw"
      },
      "outputs": [],
      "source": [
        "embedding_vectors = get_weight_matrix(w2v_model)"
      ]
    },
    {
      "cell_type": "code",
      "execution_count": null,
      "metadata": {
        "colab": {
          "background_save": true
        },
        "id": "ZX65YfgdRaMj",
        "outputId": "d246a161-a15d-4648-fb0f-ed21650ae45c"
      },
      "outputs": [
        {
          "data": {
            "text/plain": [
              "(231873, 100)"
            ]
          },
          "execution_count": 120,
          "metadata": {},
          "output_type": "execute_result"
        }
      ],
      "source": [
        "embedding_vectors.shape"
      ]
    },
    {
      "cell_type": "code",
      "execution_count": null,
      "metadata": {
        "colab": {
          "background_save": true
        },
        "id": "WbHEAbZoRfae"
      },
      "outputs": [],
      "source": [
        "model = Sequential()\n",
        "model.add(Embedding(vocab_size, output_dim = DIM, weights = [embedding_vectors], input_length=maxlen, trainable= False))\n",
        "model.add(LSTM(units=128))\n",
        "model.add(Dense(1, activation = 'sigmoid'))\n",
        "model.compile(optimizer='adam', loss='binary_crossentropy', metrics=['acc'])"
      ]
    },
    {
      "cell_type": "code",
      "execution_count": null,
      "metadata": {
        "colab": {
          "background_save": true
        },
        "id": "oek1modtTf1q",
        "outputId": "ca8f219d-f348-448e-e9d6-c075bb63c817"
      },
      "outputs": [
        {
          "name": "stdout",
          "output_type": "stream",
          "text": [
            "Model: \"sequential_1\"\n",
            "_________________________________________________________________\n",
            " Layer (type)                Output Shape              Param #   \n",
            "=================================================================\n",
            " embedding_1 (Embedding)     (None, 1000, 100)         23187300  \n",
            "                                                                 \n",
            " lstm_1 (LSTM)               (None, 128)               117248    \n",
            "                                                                 \n",
            " dense_1 (Dense)             (None, 1)                 129       \n",
            "                                                                 \n",
            "=================================================================\n",
            "Total params: 23,304,677\n",
            "Trainable params: 117,377\n",
            "Non-trainable params: 23,187,300\n",
            "_________________________________________________________________\n"
          ]
        }
      ],
      "source": [
        "model.summary()"
      ]
    },
    {
      "cell_type": "code",
      "execution_count": null,
      "metadata": {
        "colab": {
          "background_save": true
        },
        "id": "gykLJiCrTn4m"
      },
      "outputs": [],
      "source": [
        "X_train, X_test, y_train, y_test = train_test_split(X,y)"
      ]
    },
    {
      "cell_type": "code",
      "execution_count": null,
      "metadata": {
        "colab": {
          "background_save": true
        },
        "id": "nZoIFmyhqEJ6",
        "outputId": "e59d33cb-b473-47c1-a3e2-b80a15ea7b0e"
      },
      "outputs": [
        {
          "name": "stdout",
          "output_type": "stream",
          "text": [
            "Epoch 1/6\n",
            "737/737 [==============================] - 45s 59ms/step - loss: 0.1497 - acc: 0.9457 - val_loss: 0.1040 - val_acc: 0.9694\n",
            "Epoch 2/6\n",
            "737/737 [==============================] - 43s 58ms/step - loss: 0.0778 - acc: 0.9739 - val_loss: 0.0658 - val_acc: 0.9788\n",
            "Epoch 3/6\n",
            "737/737 [==============================] - 43s 58ms/step - loss: 0.0603 - acc: 0.9793 - val_loss: 0.0425 - val_acc: 0.9861\n",
            "Epoch 4/6\n",
            "737/737 [==============================] - 43s 59ms/step - loss: 0.0286 - acc: 0.9913 - val_loss: 0.0359 - val_acc: 0.9883\n",
            "Epoch 5/6\n",
            "737/737 [==============================] - 43s 58ms/step - loss: 0.0155 - acc: 0.9952 - val_loss: 0.0410 - val_acc: 0.9882\n",
            "Epoch 6/6\n",
            "737/737 [==============================] - 43s 58ms/step - loss: 0.0103 - acc: 0.9973 - val_loss: 0.0283 - val_acc: 0.9914\n"
          ]
        },
        {
          "data": {
            "text/plain": [
              "<keras.callbacks.History at 0x7fe70e829210>"
            ]
          },
          "execution_count": 124,
          "metadata": {},
          "output_type": "execute_result"
        }
      ],
      "source": [
        "model.fit(X_train, y_train, validation_split=0.3, epochs=6)"
      ]
    },
    {
      "cell_type": "code",
      "execution_count": null,
      "metadata": {
        "colab": {
          "background_save": true
        },
        "id": "SJGAXVv5rD2o",
        "outputId": "de34efb7-85db-4d0d-95f2-63fe267075e0"
      },
      "outputs": [
        {
          "name": "stdout",
          "output_type": "stream",
          "text": [
            "351/351 [==============================] - 8s 21ms/step\n"
          ]
        }
      ],
      "source": [
        "y_pred= (model.predict(X_test) >=0.5).astype(int)"
      ]
    },
    {
      "cell_type": "code",
      "execution_count": null,
      "metadata": {
        "colab": {
          "background_save": true
        },
        "id": "wbS8gwyhtnb6",
        "outputId": "9453e0b4-33b8-47a4-e069-d1a44ffc3850"
      },
      "outputs": [
        {
          "data": {
            "text/plain": [
              "0.9915367483296214"
            ]
          },
          "execution_count": 126,
          "metadata": {},
          "output_type": "execute_result"
        }
      ],
      "source": [
        "accuracy_score(y_test, y_pred)"
      ]
    },
    {
      "cell_type": "code",
      "execution_count": null,
      "metadata": {
        "colab": {
          "background_save": true
        },
        "id": "Q21s2p-3t0ZY",
        "outputId": "c04d4744-70d3-4783-b8c8-709db01b001c"
      },
      "outputs": [
        {
          "name": "stdout",
          "output_type": "stream",
          "text": [
            "              precision    recall  f1-score   support\n",
            "\n",
            "           0       0.99      0.99      0.99      5869\n",
            "           1       0.99      0.99      0.99      5356\n",
            "\n",
            "    accuracy                           0.99     11225\n",
            "   macro avg       0.99      0.99      0.99     11225\n",
            "weighted avg       0.99      0.99      0.99     11225\n",
            "\n"
          ]
        }
      ],
      "source": [
        "print(classification_report(y_test, y_pred))"
      ]
    },
    {
      "cell_type": "code",
      "execution_count": null,
      "metadata": {
        "colab": {
          "background_save": true
        },
        "id": "f79vVr3fwX0E",
        "outputId": "372032c8-168f-44b3-85a2-5fbb86a12066"
      },
      "outputs": [
        {
          "data": {
            "text/plain": [
              "array([[    0,     0,     0, ...,   598,    38,    15],\n",
              "       [    0,     0,     0, ...,   197,   175,   264],\n",
              "       [    0,     0,     0, ...,   540,     3, 11122],\n",
              "       ...,\n",
              "       [    0,     0,     0, ...,    17,     4,   247],\n",
              "       [    0,     0,     0, ...,   220,  3589,  8082],\n",
              "       [  139,  9730,    11, ...,  3033,  1097,    93]], dtype=int32)"
            ]
          },
          "execution_count": 128,
          "metadata": {},
          "output_type": "execute_result"
        }
      ],
      "source": [
        "X_test"
      ]
    },
    {
      "cell_type": "code",
      "execution_count": null,
      "metadata": {
        "colab": {
          "background_save": true
        },
        "id": "ioFc16tfxZyi"
      },
      "outputs": [],
      "source": [
        "x=['As the North Atlantic Treaty Organization (NATO) celebrates its 70th anniversary this month, Americans overwhelmingly say being a member of NATO is beneficial for the United States.']\n",
        "x=tokenizer.texts_to_sequences(x)\n",
        "x=pad_sequences(x, maxlen=maxlen)"
      ]
    },
    {
      "cell_type": "code",
      "execution_count": null,
      "metadata": {
        "colab": {
          "background_save": true
        },
        "id": "t-r4-8lrx5fP",
        "outputId": "7561694c-ae97-465c-9578-d71b99debe83"
      },
      "outputs": [
        {
          "name": "stdout",
          "output_type": "stream",
          "text": [
            "1/1 [==============================] - 0s 46ms/step\n"
          ]
        },
        {
          "data": {
            "text/plain": [
              "array([[1]])"
            ]
          },
          "execution_count": 130,
          "metadata": {},
          "output_type": "execute_result"
        }
      ],
      "source": [
        "(model.predict(x) >= 0.5).astype(int)"
      ]
    }
  ],
  "metadata": {
    "accelerator": "GPU",
    "colab": {
      "provenance": []
    },
    "kernelspec": {
      "display_name": "Python 3",
      "name": "python3"
    },
    "language_info": {
      "name": "python"
    }
  },
  "nbformat": 4,
  "nbformat_minor": 0
}